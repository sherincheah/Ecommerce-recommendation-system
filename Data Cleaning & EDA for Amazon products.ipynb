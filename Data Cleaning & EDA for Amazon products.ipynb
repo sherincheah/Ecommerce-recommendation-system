{
 "cells": [
  {
   "cell_type": "code",
   "execution_count": 242,
   "metadata": {},
   "outputs": [],
   "source": [
    "#import pandas and numpy\n",
    "import pandas as pd\n",
    "import numpy as np"
   ]
  },
  {
   "cell_type": "code",
   "execution_count": 243,
   "metadata": {
    "scrolled": true
   },
   "outputs": [
    {
     "data": {
      "text/html": [
       "<div>\n",
       "<style scoped>\n",
       "    .dataframe tbody tr th:only-of-type {\n",
       "        vertical-align: middle;\n",
       "    }\n",
       "\n",
       "    .dataframe tbody tr th {\n",
       "        vertical-align: top;\n",
       "    }\n",
       "\n",
       "    .dataframe thead th {\n",
       "        text-align: right;\n",
       "    }\n",
       "</style>\n",
       "<table border=\"1\" class=\"dataframe\">\n",
       "  <thead>\n",
       "    <tr style=\"text-align: right;\">\n",
       "      <th></th>\n",
       "      <th>Uniq Id</th>\n",
       "      <th>Product Name</th>\n",
       "      <th>Brand Name</th>\n",
       "      <th>Asin</th>\n",
       "      <th>Category</th>\n",
       "      <th>Upc Ean Code</th>\n",
       "      <th>List Price</th>\n",
       "      <th>Selling Price</th>\n",
       "      <th>Quantity</th>\n",
       "      <th>Model Number</th>\n",
       "      <th>...</th>\n",
       "      <th>Product Url</th>\n",
       "      <th>Stock</th>\n",
       "      <th>Product Details</th>\n",
       "      <th>Dimensions</th>\n",
       "      <th>Color</th>\n",
       "      <th>Ingredients</th>\n",
       "      <th>Direction To Use</th>\n",
       "      <th>Is Amazon Seller</th>\n",
       "      <th>Size Quantity Variant</th>\n",
       "      <th>Product Description</th>\n",
       "    </tr>\n",
       "  </thead>\n",
       "  <tbody>\n",
       "    <tr>\n",
       "      <th>0</th>\n",
       "      <td>101</td>\n",
       "      <td>DB Longboards CoreFlex Crossbow 41\" Bamboo Fib...</td>\n",
       "      <td>NaN</td>\n",
       "      <td>NaN</td>\n",
       "      <td>Sports &amp; Outdoors | Outdoor Recreation | Skate...</td>\n",
       "      <td>NaN</td>\n",
       "      <td>NaN</td>\n",
       "      <td>$238</td>\n",
       "      <td>NaN</td>\n",
       "      <td>NaN</td>\n",
       "      <td>...</td>\n",
       "      <td>https://www.amazon.com/DB-Longboards-CoreFlex-...</td>\n",
       "      <td>NaN</td>\n",
       "      <td>NaN</td>\n",
       "      <td>NaN</td>\n",
       "      <td>NaN</td>\n",
       "      <td>NaN</td>\n",
       "      <td>NaN</td>\n",
       "      <td>Y</td>\n",
       "      <td>NaN</td>\n",
       "      <td>NaN</td>\n",
       "    </tr>\n",
       "    <tr>\n",
       "      <th>1</th>\n",
       "      <td>102</td>\n",
       "      <td>Electronic Snap Circuits Mini Kits Classpack, ...</td>\n",
       "      <td>NaN</td>\n",
       "      <td>NaN</td>\n",
       "      <td>Toys &amp; Games | Learning &amp; Education | Science ...</td>\n",
       "      <td>NaN</td>\n",
       "      <td>NaN</td>\n",
       "      <td>$100</td>\n",
       "      <td>NaN</td>\n",
       "      <td>55324</td>\n",
       "      <td>...</td>\n",
       "      <td>https://www.amazon.com/Electronic-Circuits-Cla...</td>\n",
       "      <td>NaN</td>\n",
       "      <td>NaN</td>\n",
       "      <td>NaN</td>\n",
       "      <td>NaN</td>\n",
       "      <td>NaN</td>\n",
       "      <td>NaN</td>\n",
       "      <td>Y</td>\n",
       "      <td>NaN</td>\n",
       "      <td>NaN</td>\n",
       "    </tr>\n",
       "    <tr>\n",
       "      <th>2</th>\n",
       "      <td>103</td>\n",
       "      <td>3Doodler Create Flexy 3D Printing Filament Ref...</td>\n",
       "      <td>NaN</td>\n",
       "      <td>NaN</td>\n",
       "      <td>Toys &amp; Games | Arts &amp; Crafts | Craft Kits</td>\n",
       "      <td>NaN</td>\n",
       "      <td>NaN</td>\n",
       "      <td>$35</td>\n",
       "      <td>NaN</td>\n",
       "      <td>NaN</td>\n",
       "      <td>...</td>\n",
       "      <td>https://www.amazon.com/3Doodler-Plastic-Innova...</td>\n",
       "      <td>NaN</td>\n",
       "      <td>NaN</td>\n",
       "      <td>NaN</td>\n",
       "      <td>NaN</td>\n",
       "      <td>NaN</td>\n",
       "      <td>NaN</td>\n",
       "      <td>Y</td>\n",
       "      <td>NaN</td>\n",
       "      <td>NaN</td>\n",
       "    </tr>\n",
       "    <tr>\n",
       "      <th>3</th>\n",
       "      <td>104</td>\n",
       "      <td>Guillow Airplane Design Studio with Travel Cas...</td>\n",
       "      <td>NaN</td>\n",
       "      <td>NaN</td>\n",
       "      <td>Toys &amp; Games | Hobbies | Models &amp; Model Kits |...</td>\n",
       "      <td>NaN</td>\n",
       "      <td>NaN</td>\n",
       "      <td>$29</td>\n",
       "      <td>NaN</td>\n",
       "      <td>142</td>\n",
       "      <td>...</td>\n",
       "      <td>https://www.amazon.com/Guillow-Airplane-Design...</td>\n",
       "      <td>NaN</td>\n",
       "      <td>NaN</td>\n",
       "      <td>NaN</td>\n",
       "      <td>NaN</td>\n",
       "      <td>NaN</td>\n",
       "      <td>NaN</td>\n",
       "      <td>Y</td>\n",
       "      <td>NaN</td>\n",
       "      <td>NaN</td>\n",
       "    </tr>\n",
       "    <tr>\n",
       "      <th>4</th>\n",
       "      <td>105</td>\n",
       "      <td>Woodstock- Collage 500 pc Puzzle</td>\n",
       "      <td>NaN</td>\n",
       "      <td>NaN</td>\n",
       "      <td>Toys &amp; Games | Puzzles | Jigsaw Puzzles</td>\n",
       "      <td>NaN</td>\n",
       "      <td>NaN</td>\n",
       "      <td>$17</td>\n",
       "      <td>NaN</td>\n",
       "      <td>62151</td>\n",
       "      <td>...</td>\n",
       "      <td>https://www.amazon.com/Woodstock-Collage-500-p...</td>\n",
       "      <td>NaN</td>\n",
       "      <td>NaN</td>\n",
       "      <td>NaN</td>\n",
       "      <td>NaN</td>\n",
       "      <td>NaN</td>\n",
       "      <td>NaN</td>\n",
       "      <td>Y</td>\n",
       "      <td>NaN</td>\n",
       "      <td>NaN</td>\n",
       "    </tr>\n",
       "  </tbody>\n",
       "</table>\n",
       "<p>5 rows × 28 columns</p>\n",
       "</div>"
      ],
      "text/plain": [
       "   Uniq Id                                       Product Name  Brand Name  \\\n",
       "0      101  DB Longboards CoreFlex Crossbow 41\" Bamboo Fib...         NaN   \n",
       "1      102  Electronic Snap Circuits Mini Kits Classpack, ...         NaN   \n",
       "2      103  3Doodler Create Flexy 3D Printing Filament Ref...         NaN   \n",
       "3      104  Guillow Airplane Design Studio with Travel Cas...         NaN   \n",
       "4      105                   Woodstock- Collage 500 pc Puzzle         NaN   \n",
       "\n",
       "   Asin                                           Category Upc Ean Code  \\\n",
       "0   NaN  Sports & Outdoors | Outdoor Recreation | Skate...          NaN   \n",
       "1   NaN  Toys & Games | Learning & Education | Science ...          NaN   \n",
       "2   NaN          Toys & Games | Arts & Crafts | Craft Kits          NaN   \n",
       "3   NaN  Toys & Games | Hobbies | Models & Model Kits |...          NaN   \n",
       "4   NaN            Toys & Games | Puzzles | Jigsaw Puzzles          NaN   \n",
       "\n",
       "   List Price Selling Price  Quantity Model Number  ...  \\\n",
       "0         NaN          $238       NaN          NaN  ...   \n",
       "1         NaN          $100       NaN        55324  ...   \n",
       "2         NaN           $35       NaN          NaN  ...   \n",
       "3         NaN           $29       NaN          142  ...   \n",
       "4         NaN           $17       NaN        62151  ...   \n",
       "\n",
       "                                         Product Url Stock Product Details  \\\n",
       "0  https://www.amazon.com/DB-Longboards-CoreFlex-...   NaN             NaN   \n",
       "1  https://www.amazon.com/Electronic-Circuits-Cla...   NaN             NaN   \n",
       "2  https://www.amazon.com/3Doodler-Plastic-Innova...   NaN             NaN   \n",
       "3  https://www.amazon.com/Guillow-Airplane-Design...   NaN             NaN   \n",
       "4  https://www.amazon.com/Woodstock-Collage-500-p...   NaN             NaN   \n",
       "\n",
       "  Dimensions Color Ingredients Direction To Use  Is Amazon Seller  \\\n",
       "0        NaN   NaN         NaN              NaN                 Y   \n",
       "1        NaN   NaN         NaN              NaN                 Y   \n",
       "2        NaN   NaN         NaN              NaN                 Y   \n",
       "3        NaN   NaN         NaN              NaN                 Y   \n",
       "4        NaN   NaN         NaN              NaN                 Y   \n",
       "\n",
       "  Size Quantity Variant  Product Description  \n",
       "0                   NaN                  NaN  \n",
       "1                   NaN                  NaN  \n",
       "2                   NaN                  NaN  \n",
       "3                   NaN                  NaN  \n",
       "4                   NaN                  NaN  \n",
       "\n",
       "[5 rows x 28 columns]"
      ]
     },
     "execution_count": 243,
     "metadata": {},
     "output_type": "execute_result"
    }
   ],
   "source": [
    "#upload data set to colab from desktop\n",
    "#once uploaded, load data set \n",
    "\n",
    "dataset = pd.read_csv(\"amazon consumer dataset ver2.csv\")\n",
    "dataset.head(5)"
   ]
  },
  {
   "cell_type": "code",
   "execution_count": 244,
   "metadata": {},
   "outputs": [
    {
     "data": {
      "text/plain": [
       "(10002, 28)"
      ]
     },
     "execution_count": 244,
     "metadata": {},
     "output_type": "execute_result"
    }
   ],
   "source": [
    "#wrangle-rows by columns\n",
    "dataset.shape"
   ]
  },
  {
   "cell_type": "markdown",
   "metadata": {},
   "source": [
    "From this dataset, there are a total of 10002 rows and 28 columns(variables)."
   ]
  },
  {
   "cell_type": "code",
   "execution_count": 245,
   "metadata": {},
   "outputs": [
    {
     "name": "stdout",
     "output_type": "stream",
     "text": [
      "<class 'pandas.core.frame.DataFrame'>\n",
      "RangeIndex: 10002 entries, 0 to 10001\n",
      "Data columns (total 28 columns):\n",
      " #   Column                 Non-Null Count  Dtype  \n",
      "---  ------                 --------------  -----  \n",
      " 0   Uniq Id                10002 non-null  int64  \n",
      " 1   Product Name           10002 non-null  object \n",
      " 2   Brand Name             0 non-null      float64\n",
      " 3   Asin                   0 non-null      float64\n",
      " 4   Category               9172 non-null   object \n",
      " 5   Upc Ean Code           34 non-null     object \n",
      " 6   List Price             0 non-null      float64\n",
      " 7   Selling Price          9895 non-null   object \n",
      " 8   Quantity               0 non-null      float64\n",
      " 9   Model Number           8232 non-null   object \n",
      " 10  About Product          9729 non-null   object \n",
      " 11  Product Specification  8370 non-null   object \n",
      " 12  Technical Details      9212 non-null   object \n",
      " 13  Shipping Weight        8864 non-null   object \n",
      " 14  Product Dimensions     479 non-null    object \n",
      " 15  Image                  10002 non-null  object \n",
      " 16  Variants               2478 non-null   object \n",
      " 17  Sku                    0 non-null      float64\n",
      " 18  Product Url            10002 non-null  object \n",
      " 19  Stock                  0 non-null      float64\n",
      " 20  Product Details        0 non-null      float64\n",
      " 21  Dimensions             0 non-null      float64\n",
      " 22  Color                  0 non-null      float64\n",
      " 23  Ingredients            0 non-null      float64\n",
      " 24  Direction To Use       0 non-null      float64\n",
      " 25  Is Amazon Seller       10002 non-null  object \n",
      " 26  Size Quantity Variant  0 non-null      float64\n",
      " 27  Product Description    0 non-null      float64\n",
      "dtypes: float64(13), int64(1), object(14)\n",
      "memory usage: 2.1+ MB\n"
     ]
    }
   ],
   "source": [
    "#Check variable characteristics\n",
    "dataset.info()"
   ]
  },
  {
   "cell_type": "code",
   "execution_count": 246,
   "metadata": {
    "scrolled": true
   },
   "outputs": [
    {
     "data": {
      "text/plain": [
       "0        False\n",
       "1        False\n",
       "2        False\n",
       "3        False\n",
       "4        False\n",
       "         ...  \n",
       "9997     False\n",
       "9998     False\n",
       "9999     False\n",
       "10000    False\n",
       "10001    False\n",
       "Length: 10002, dtype: bool"
      ]
     },
     "execution_count": 246,
     "metadata": {},
     "output_type": "execute_result"
    }
   ],
   "source": [
    "# Check for duplicates\n",
    "dataset.duplicated()"
   ]
  },
  {
   "cell_type": "markdown",
   "metadata": {},
   "source": [
    "All 10002 rows are unique. "
   ]
  },
  {
   "cell_type": "code",
   "execution_count": 247,
   "metadata": {},
   "outputs": [],
   "source": [
    "#Dropping redundant columns\n",
    "cols = [2,3,5,6,8,9,12,14,15,16,17,18,19,20,21,22,23,24,25,26,27]\n",
    "dataset.drop(dataset.columns[cols], axis =1, inplace=True)"
   ]
  },
  {
   "cell_type": "markdown",
   "metadata": {},
   "source": [
    "Columns 2,3,6,8,17,19-24,26,27 only contains null values (not useful).\n",
    "Columns 1,5,9,12,14-16,18,25 are not helpful with achieving our objectives. "
   ]
  },
  {
   "cell_type": "code",
   "execution_count": 248,
   "metadata": {
    "scrolled": true
   },
   "outputs": [
    {
     "name": "stdout",
     "output_type": "stream",
     "text": [
      "<class 'pandas.core.frame.DataFrame'>\n",
      "Int64Index: 7216 entries, 0 to 10001\n",
      "Data columns (total 7 columns):\n",
      " #   Column                 Non-Null Count  Dtype \n",
      "---  ------                 --------------  ----- \n",
      " 0   Uniq Id                7216 non-null   int64 \n",
      " 1   Product Name           7216 non-null   object\n",
      " 2   Category               7216 non-null   object\n",
      " 3   Selling Price          7216 non-null   object\n",
      " 4   About Product          7216 non-null   object\n",
      " 5   Product Specification  7216 non-null   object\n",
      " 6   Shipping Weight        7216 non-null   object\n",
      "dtypes: int64(1), object(6)\n",
      "memory usage: 451.0+ KB\n"
     ]
    }
   ],
   "source": [
    "# dropping null values to avoid errors \n",
    "dataset.dropna(inplace = True)\n",
    "dataset.info()"
   ]
  },
  {
   "cell_type": "code",
   "execution_count": 249,
   "metadata": {},
   "outputs": [],
   "source": [
    "# new data frame with split value columns. We use n = 3 to get a maximum of 3+1 columns\n",
    "new = dataset[\"Category\"].str.split(\"|\", n = 3, expand = True)\n",
    "  \n",
    "# making the first category called Main Category\n",
    "dataset[\"Main Category\"]= new[0] \n",
    "  \n",
    "# making the second category called sub_category \n",
    "dataset[\"Sub-Category\"]= new[1]\n",
    "\n",
    "# making the third category called side_category \n",
    "dataset[\"Side Category\"]= new[2]\n",
    "\n",
    "# making the last column consist of the remaining categories\n",
    "dataset[\"Other Categories\"]= new[3]\n",
    "\n",
    "# Dropping old category columns and the remaining categories \n",
    "dataset.drop(columns =[\"Category\", \"Other Categories\"], inplace = True)"
   ]
  },
  {
   "cell_type": "code",
   "execution_count": 250,
   "metadata": {
    "scrolled": true
   },
   "outputs": [
    {
     "data": {
      "text/html": [
       "<div>\n",
       "<style scoped>\n",
       "    .dataframe tbody tr th:only-of-type {\n",
       "        vertical-align: middle;\n",
       "    }\n",
       "\n",
       "    .dataframe tbody tr th {\n",
       "        vertical-align: top;\n",
       "    }\n",
       "\n",
       "    .dataframe thead th {\n",
       "        text-align: right;\n",
       "    }\n",
       "</style>\n",
       "<table border=\"1\" class=\"dataframe\">\n",
       "  <thead>\n",
       "    <tr style=\"text-align: right;\">\n",
       "      <th></th>\n",
       "      <th>Uniq Id</th>\n",
       "      <th>Product Name</th>\n",
       "      <th>Selling Price</th>\n",
       "      <th>About Product</th>\n",
       "      <th>Product Specification</th>\n",
       "      <th>Shipping Weight</th>\n",
       "      <th>Main Category</th>\n",
       "      <th>Sub-Category</th>\n",
       "      <th>Side Category</th>\n",
       "    </tr>\n",
       "  </thead>\n",
       "  <tbody>\n",
       "    <tr>\n",
       "      <th>0</th>\n",
       "      <td>101</td>\n",
       "      <td>DB Longboards CoreFlex Crossbow 41\" Bamboo Fib...</td>\n",
       "      <td>$238</td>\n",
       "      <td>Make sure this fits by entering your model num...</td>\n",
       "      <td>Shipping Weight: 10.7 pounds (View shipping ra...</td>\n",
       "      <td>10.7 pounds</td>\n",
       "      <td>Sports &amp; Outdoors</td>\n",
       "      <td>Outdoor Recreation</td>\n",
       "      <td>Skates, Skateboards &amp; Scooters</td>\n",
       "    </tr>\n",
       "    <tr>\n",
       "      <th>1</th>\n",
       "      <td>102</td>\n",
       "      <td>Electronic Snap Circuits Mini Kits Classpack, ...</td>\n",
       "      <td>$100</td>\n",
       "      <td>Make sure this fits by entering your model num...</td>\n",
       "      <td>Product Dimensions:         14.7 x 11.1 x 10.2...</td>\n",
       "      <td>4 pounds</td>\n",
       "      <td>Toys &amp; Games</td>\n",
       "      <td>Learning &amp; Education</td>\n",
       "      <td>Science Kits &amp; Toys</td>\n",
       "    </tr>\n",
       "    <tr>\n",
       "      <th>2</th>\n",
       "      <td>103</td>\n",
       "      <td>3Doodler Create Flexy 3D Printing Filament Ref...</td>\n",
       "      <td>$35</td>\n",
       "      <td>Make sure this fits by entering your model num...</td>\n",
       "      <td>ProductDimensions:10.3x3.4x0.8inches|ItemWeigh...</td>\n",
       "      <td>12.8 ounces</td>\n",
       "      <td>Toys &amp; Games</td>\n",
       "      <td>Arts &amp; Crafts</td>\n",
       "      <td>Craft Kits</td>\n",
       "    </tr>\n",
       "    <tr>\n",
       "      <th>3</th>\n",
       "      <td>104</td>\n",
       "      <td>Guillow Airplane Design Studio with Travel Cas...</td>\n",
       "      <td>$29</td>\n",
       "      <td>Make 8 different Planes at one time. | Experim...</td>\n",
       "      <td>ProductDimensions:3.5x6.2x13inches|ItemWeight:...</td>\n",
       "      <td>13.4 ounces</td>\n",
       "      <td>Toys &amp; Games</td>\n",
       "      <td>Hobbies</td>\n",
       "      <td>Models &amp; Model Kits</td>\n",
       "    </tr>\n",
       "    <tr>\n",
       "      <th>4</th>\n",
       "      <td>105</td>\n",
       "      <td>Woodstock- Collage 500 pc Puzzle</td>\n",
       "      <td>$17</td>\n",
       "      <td>Make sure this fits by entering your model num...</td>\n",
       "      <td>ProductDimensions:1.9x8x10inches|ItemWeight:13...</td>\n",
       "      <td>13.4 ounces</td>\n",
       "      <td>Toys &amp; Games</td>\n",
       "      <td>Puzzles</td>\n",
       "      <td>Jigsaw Puzzles</td>\n",
       "    </tr>\n",
       "  </tbody>\n",
       "</table>\n",
       "</div>"
      ],
      "text/plain": [
       "   Uniq Id                                       Product Name Selling Price  \\\n",
       "0      101  DB Longboards CoreFlex Crossbow 41\" Bamboo Fib...          $238   \n",
       "1      102  Electronic Snap Circuits Mini Kits Classpack, ...          $100   \n",
       "2      103  3Doodler Create Flexy 3D Printing Filament Ref...           $35   \n",
       "3      104  Guillow Airplane Design Studio with Travel Cas...           $29   \n",
       "4      105                   Woodstock- Collage 500 pc Puzzle           $17   \n",
       "\n",
       "                                       About Product  \\\n",
       "0  Make sure this fits by entering your model num...   \n",
       "1  Make sure this fits by entering your model num...   \n",
       "2  Make sure this fits by entering your model num...   \n",
       "3  Make 8 different Planes at one time. | Experim...   \n",
       "4  Make sure this fits by entering your model num...   \n",
       "\n",
       "                               Product Specification Shipping Weight  \\\n",
       "0  Shipping Weight: 10.7 pounds (View shipping ra...     10.7 pounds   \n",
       "1  Product Dimensions:         14.7 x 11.1 x 10.2...        4 pounds   \n",
       "2  ProductDimensions:10.3x3.4x0.8inches|ItemWeigh...     12.8 ounces   \n",
       "3  ProductDimensions:3.5x6.2x13inches|ItemWeight:...     13.4 ounces   \n",
       "4  ProductDimensions:1.9x8x10inches|ItemWeight:13...     13.4 ounces   \n",
       "\n",
       "        Main Category            Sub-Category  \\\n",
       "0  Sports & Outdoors      Outdoor Recreation    \n",
       "1       Toys & Games    Learning & Education    \n",
       "2       Toys & Games           Arts & Crafts    \n",
       "3       Toys & Games                 Hobbies    \n",
       "4       Toys & Games                 Puzzles    \n",
       "\n",
       "                      Side Category  \n",
       "0   Skates, Skateboards & Scooters   \n",
       "1               Science Kits & Toys  \n",
       "2                        Craft Kits  \n",
       "3              Models & Model Kits   \n",
       "4                    Jigsaw Puzzles  "
      ]
     },
     "execution_count": 250,
     "metadata": {},
     "output_type": "execute_result"
    }
   ],
   "source": [
    "# Revised dataset to conduct EDA\n",
    "dataset.head()"
   ]
  },
  {
   "cell_type": "code",
   "execution_count": 251,
   "metadata": {},
   "outputs": [
    {
     "data": {
      "text/html": [
       "<div>\n",
       "<style scoped>\n",
       "    .dataframe tbody tr th:only-of-type {\n",
       "        vertical-align: middle;\n",
       "    }\n",
       "\n",
       "    .dataframe tbody tr th {\n",
       "        vertical-align: top;\n",
       "    }\n",
       "\n",
       "    .dataframe thead th {\n",
       "        text-align: right;\n",
       "    }\n",
       "</style>\n",
       "<table border=\"1\" class=\"dataframe\">\n",
       "  <thead>\n",
       "    <tr style=\"text-align: right;\">\n",
       "      <th></th>\n",
       "      <th>Id</th>\n",
       "      <th>Product Name</th>\n",
       "      <th>Selling Price($)</th>\n",
       "      <th>About Product</th>\n",
       "      <th>Product Specification</th>\n",
       "      <th>Shipping Weight(Pounds)</th>\n",
       "      <th>Main Category</th>\n",
       "      <th>Sub-Category</th>\n",
       "      <th>Side Category</th>\n",
       "    </tr>\n",
       "  </thead>\n",
       "  <tbody>\n",
       "    <tr>\n",
       "      <th>0</th>\n",
       "      <td>101</td>\n",
       "      <td>DB Longboards CoreFlex Crossbow 41\" Bamboo Fib...</td>\n",
       "      <td>238</td>\n",
       "      <td>Make sure this fits by entering your model num...</td>\n",
       "      <td>Shipping Weight: 10.7 pounds (View shipping ra...</td>\n",
       "      <td>10.7</td>\n",
       "      <td>Sports &amp; Outdoors</td>\n",
       "      <td>Outdoor Recreation</td>\n",
       "      <td>Skates, Skateboards &amp; Scooters</td>\n",
       "    </tr>\n",
       "    <tr>\n",
       "      <th>1</th>\n",
       "      <td>102</td>\n",
       "      <td>Electronic Snap Circuits Mini Kits Classpack, ...</td>\n",
       "      <td>100</td>\n",
       "      <td>Make sure this fits by entering your model num...</td>\n",
       "      <td>Product Dimensions:         14.7 x 11.1 x 10.2...</td>\n",
       "      <td>4</td>\n",
       "      <td>Toys &amp; Games</td>\n",
       "      <td>Learning &amp; Education</td>\n",
       "      <td>Science Kits &amp; Toys</td>\n",
       "    </tr>\n",
       "    <tr>\n",
       "      <th>2</th>\n",
       "      <td>103</td>\n",
       "      <td>3Doodler Create Flexy 3D Printing Filament Ref...</td>\n",
       "      <td>35</td>\n",
       "      <td>Make sure this fits by entering your model num...</td>\n",
       "      <td>ProductDimensions:10.3x3.4x0.8inches|ItemWeigh...</td>\n",
       "      <td>12.8</td>\n",
       "      <td>Toys &amp; Games</td>\n",
       "      <td>Arts &amp; Crafts</td>\n",
       "      <td>Craft Kits</td>\n",
       "    </tr>\n",
       "    <tr>\n",
       "      <th>3</th>\n",
       "      <td>104</td>\n",
       "      <td>Guillow Airplane Design Studio with Travel Cas...</td>\n",
       "      <td>29</td>\n",
       "      <td>Make 8 different Planes at one time. | Experim...</td>\n",
       "      <td>ProductDimensions:3.5x6.2x13inches|ItemWeight:...</td>\n",
       "      <td>13.4</td>\n",
       "      <td>Toys &amp; Games</td>\n",
       "      <td>Hobbies</td>\n",
       "      <td>Models &amp; Model Kits</td>\n",
       "    </tr>\n",
       "    <tr>\n",
       "      <th>4</th>\n",
       "      <td>105</td>\n",
       "      <td>Woodstock- Collage 500 pc Puzzle</td>\n",
       "      <td>17</td>\n",
       "      <td>Make sure this fits by entering your model num...</td>\n",
       "      <td>ProductDimensions:1.9x8x10inches|ItemWeight:13...</td>\n",
       "      <td>13.4</td>\n",
       "      <td>Toys &amp; Games</td>\n",
       "      <td>Puzzles</td>\n",
       "      <td>Jigsaw Puzzles</td>\n",
       "    </tr>\n",
       "  </tbody>\n",
       "</table>\n",
       "</div>"
      ],
      "text/plain": [
       "    Id                                       Product Name Selling Price($)  \\\n",
       "0  101  DB Longboards CoreFlex Crossbow 41\" Bamboo Fib...              238   \n",
       "1  102  Electronic Snap Circuits Mini Kits Classpack, ...              100   \n",
       "2  103  3Doodler Create Flexy 3D Printing Filament Ref...               35   \n",
       "3  104  Guillow Airplane Design Studio with Travel Cas...               29   \n",
       "4  105                   Woodstock- Collage 500 pc Puzzle               17   \n",
       "\n",
       "                                       About Product  \\\n",
       "0  Make sure this fits by entering your model num...   \n",
       "1  Make sure this fits by entering your model num...   \n",
       "2  Make sure this fits by entering your model num...   \n",
       "3  Make 8 different Planes at one time. | Experim...   \n",
       "4  Make sure this fits by entering your model num...   \n",
       "\n",
       "                               Product Specification Shipping Weight(Pounds)  \\\n",
       "0  Shipping Weight: 10.7 pounds (View shipping ra...                   10.7    \n",
       "1  Product Dimensions:         14.7 x 11.1 x 10.2...                      4    \n",
       "2  ProductDimensions:10.3x3.4x0.8inches|ItemWeigh...                   12.8    \n",
       "3  ProductDimensions:3.5x6.2x13inches|ItemWeight:...                   13.4    \n",
       "4  ProductDimensions:1.9x8x10inches|ItemWeight:13...                   13.4    \n",
       "\n",
       "        Main Category            Sub-Category  \\\n",
       "0  Sports & Outdoors      Outdoor Recreation    \n",
       "1       Toys & Games    Learning & Education    \n",
       "2       Toys & Games           Arts & Crafts    \n",
       "3       Toys & Games                 Hobbies    \n",
       "4       Toys & Games                 Puzzles    \n",
       "\n",
       "                      Side Category  \n",
       "0   Skates, Skateboards & Scooters   \n",
       "1               Science Kits & Toys  \n",
       "2                        Craft Kits  \n",
       "3              Models & Model Kits   \n",
       "4                    Jigsaw Puzzles  "
      ]
     },
     "execution_count": 251,
     "metadata": {},
     "output_type": "execute_result"
    }
   ],
   "source": [
    "dataset.rename(columns = {'Uniq Id':'Id','Shipping Weight':'Shipping Weight(Pounds)', 'Selling Price':'Selling Price($)'}, inplace = True)\n",
    "dataset['Selling Price($)'] = dataset['Selling Price($)'].str.strip('$')\n",
    "dataset['Shipping Weight(Pounds)'] = dataset['Shipping Weight(Pounds)'].str.strip('ounces')\n",
    "dataset['Shipping Weight(Pounds)'] = dataset['Shipping Weight(Pounds)'].str.strip('pounds')\n",
    "\n",
    "dataset.head()"
   ]
  },
  {
   "cell_type": "code",
   "execution_count": 252,
   "metadata": {},
   "outputs": [],
   "source": [
    "# Start of EDA\n",
    "import seaborn as sns\n",
    "import matplotlib.pyplot as plt"
   ]
  },
  {
   "cell_type": "code",
   "execution_count": 253,
   "metadata": {
    "scrolled": true
   },
   "outputs": [
    {
     "data": {
      "text/plain": [
       "Toys & Games                                 5556\n",
       "Home & Kitchen                                569\n",
       "Sports & Outdoors                             436\n",
       "Clothing, Shoes & Jewelry                     258\n",
       "Arts, Crafts & Sewing                         110\n",
       "Baby Products                                  82\n",
       "Office Products                                60\n",
       "Hobbies                                        18\n",
       "Industrial & Scientific                        17\n",
       "Pet Supplies                                   16\n",
       "Remote & App Controlled Vehicle Parts          14\n",
       "Health & Household                             14\n",
       "Tools & Home Improvement                       11\n",
       "Grocery & Gourmet Food                         11\n",
       "Beauty & Personal Care                          9\n",
       "Patio, Lawn & Garden                            9\n",
       "Automotive                                      9\n",
       "Electronics                                     6\n",
       "Remote & App Controlled Vehicles & Parts        6\n",
       "Video Games                                     2\n",
       "Cell Phones & Accessories                       1\n",
       "Movies & TV                                     1\n",
       "Musical Instruments                             1\n",
       "Name: Main Category, dtype: int64"
      ]
     },
     "execution_count": 253,
     "metadata": {},
     "output_type": "execute_result"
    }
   ],
   "source": [
    "#data visualisation\n",
    "\n",
    "#lets look at patterns in terms of Product Category popularity\n",
    "#generate count for \"Main Category\"\n",
    "\n",
    "dataset['Main Category'].value_counts()"
   ]
  },
  {
   "cell_type": "markdown",
   "metadata": {},
   "source": [
    "The top 5 Category: \n",
    "1.Toys & Games\n",
    "2.Home & Kitchen\n",
    "3.Sports & Outdoors\n",
    "4.Clothing, Shoes & Jewelry\n",
    "5.Arts, Crafts & Sewing"
   ]
  },
  {
   "cell_type": "code",
   "execution_count": 254,
   "metadata": {
    "scrolled": true
   },
   "outputs": [
    {
     "data": {
      "text/plain": [
       "<matplotlib.axes._subplots.AxesSubplot at 0x2288a9ed7f0>"
      ]
     },
     "execution_count": 254,
     "metadata": {},
     "output_type": "execute_result"
    },
    {
     "data": {
      "image/png": "[encoded data removed]",
      "text/plain": [
       "<Figure size 432x288 with 1 Axes>"
      ]
     },
     "metadata": {
      "needs_background": "light"
     },
     "output_type": "display_data"
    }
   ],
   "source": [
    "#countplot - histogram-like model used for categorical variables rather than quantitative\n",
    "sns.countplot(data=dataset, x = 'Main Category')"
   ]
  },
  {
   "cell_type": "markdown",
   "metadata": {},
   "source": [
    "EDA\n",
    "#distplot for price of top 5 main categories\n",
    "#relationship between shipping weight and price \n",
    "#most expensive and cheapest product in each category - enable us to get an estimate of the pricing of that product so that suggested products should range between the two\n",
    "#category with most expensive item and the cheapest item "
   ]
  },
  {
   "cell_type": "markdown",
   "metadata": {},
   "source": [
    "Refer to the Kaggle website and start working on the algorithms and codes "
   ]
  },
  {
   "cell_type": "code",
   "execution_count": 255,
   "metadata": {
    "scrolled": false
   },
   "outputs": [
    {
     "data": {
      "text/html": [
       "<div>\n",
       "<style scoped>\n",
       "    .dataframe tbody tr th:only-of-type {\n",
       "        vertical-align: middle;\n",
       "    }\n",
       "\n",
       "    .dataframe tbody tr th {\n",
       "        vertical-align: top;\n",
       "    }\n",
       "\n",
       "    .dataframe thead th {\n",
       "        text-align: right;\n",
       "    }\n",
       "</style>\n",
       "<table border=\"1\" class=\"dataframe\">\n",
       "  <thead>\n",
       "    <tr style=\"text-align: right;\">\n",
       "      <th></th>\n",
       "      <th>Id</th>\n",
       "      <th>Product Name</th>\n",
       "      <th>Selling Price($)</th>\n",
       "      <th>About Product</th>\n",
       "      <th>Product Specification</th>\n",
       "      <th>Shipping Weight(Pounds)</th>\n",
       "      <th>Main Category</th>\n",
       "      <th>Sub-Category</th>\n",
       "      <th>Side Category</th>\n",
       "    </tr>\n",
       "  </thead>\n",
       "  <tbody>\n",
       "    <tr>\n",
       "      <th>0</th>\n",
       "      <td>101</td>\n",
       "      <td>DB Longboards CoreFlex Crossbow 41\" Bamboo Fib...</td>\n",
       "      <td>238</td>\n",
       "      <td>Make sure this fits by entering your model num...</td>\n",
       "      <td>Shipping Weight: 10.7 pounds (View shipping ra...</td>\n",
       "      <td>10.7</td>\n",
       "      <td>Sports &amp; Outdoors</td>\n",
       "      <td>Outdoor Recreation</td>\n",
       "      <td>Skates, Skateboards &amp; Scooters</td>\n",
       "    </tr>\n",
       "    <tr>\n",
       "      <th>1</th>\n",
       "      <td>102</td>\n",
       "      <td>Electronic Snap Circuits Mini Kits Classpack, ...</td>\n",
       "      <td>100</td>\n",
       "      <td>Make sure this fits by entering your model num...</td>\n",
       "      <td>Product Dimensions:         14.7 x 11.1 x 10.2...</td>\n",
       "      <td>4</td>\n",
       "      <td>Toys &amp; Games</td>\n",
       "      <td>Learning &amp; Education</td>\n",
       "      <td>Science Kits &amp; Toys</td>\n",
       "    </tr>\n",
       "    <tr>\n",
       "      <th>2</th>\n",
       "      <td>103</td>\n",
       "      <td>3Doodler Create Flexy 3D Printing Filament Ref...</td>\n",
       "      <td>35</td>\n",
       "      <td>Make sure this fits by entering your model num...</td>\n",
       "      <td>ProductDimensions:10.3x3.4x0.8inches|ItemWeigh...</td>\n",
       "      <td>12.8</td>\n",
       "      <td>Toys &amp; Games</td>\n",
       "      <td>Arts &amp; Crafts</td>\n",
       "      <td>Craft Kits</td>\n",
       "    </tr>\n",
       "    <tr>\n",
       "      <th>3</th>\n",
       "      <td>104</td>\n",
       "      <td>Guillow Airplane Design Studio with Travel Cas...</td>\n",
       "      <td>29</td>\n",
       "      <td>Make 8 different Planes at one time. | Experim...</td>\n",
       "      <td>ProductDimensions:3.5x6.2x13inches|ItemWeight:...</td>\n",
       "      <td>13.4</td>\n",
       "      <td>Toys &amp; Games</td>\n",
       "      <td>Hobbies</td>\n",
       "      <td>Models &amp; Model Kits</td>\n",
       "    </tr>\n",
       "    <tr>\n",
       "      <th>4</th>\n",
       "      <td>105</td>\n",
       "      <td>Woodstock- Collage 500 pc Puzzle</td>\n",
       "      <td>17</td>\n",
       "      <td>Make sure this fits by entering your model num...</td>\n",
       "      <td>ProductDimensions:1.9x8x10inches|ItemWeight:13...</td>\n",
       "      <td>13.4</td>\n",
       "      <td>Toys &amp; Games</td>\n",
       "      <td>Puzzles</td>\n",
       "      <td>Jigsaw Puzzles</td>\n",
       "    </tr>\n",
       "  </tbody>\n",
       "</table>\n",
       "</div>"
      ],
      "text/plain": [
       "    Id                                       Product Name Selling Price($)  \\\n",
       "0  101  DB Longboards CoreFlex Crossbow 41\" Bamboo Fib...              238   \n",
       "1  102  Electronic Snap Circuits Mini Kits Classpack, ...              100   \n",
       "2  103  3Doodler Create Flexy 3D Printing Filament Ref...               35   \n",
       "3  104  Guillow Airplane Design Studio with Travel Cas...               29   \n",
       "4  105                   Woodstock- Collage 500 pc Puzzle               17   \n",
       "\n",
       "                                       About Product  \\\n",
       "0  Make sure this fits by entering your model num...   \n",
       "1  Make sure this fits by entering your model num...   \n",
       "2  Make sure this fits by entering your model num...   \n",
       "3  Make 8 different Planes at one time. | Experim...   \n",
       "4  Make sure this fits by entering your model num...   \n",
       "\n",
       "                               Product Specification Shipping Weight(Pounds)  \\\n",
       "0  Shipping Weight: 10.7 pounds (View shipping ra...                   10.7    \n",
       "1  Product Dimensions:         14.7 x 11.1 x 10.2...                      4    \n",
       "2  ProductDimensions:10.3x3.4x0.8inches|ItemWeigh...                   12.8    \n",
       "3  ProductDimensions:3.5x6.2x13inches|ItemWeight:...                   13.4    \n",
       "4  ProductDimensions:1.9x8x10inches|ItemWeight:13...                   13.4    \n",
       "\n",
       "        Main Category            Sub-Category  \\\n",
       "0  Sports & Outdoors      Outdoor Recreation    \n",
       "1       Toys & Games    Learning & Education    \n",
       "2       Toys & Games           Arts & Crafts    \n",
       "3       Toys & Games                 Hobbies    \n",
       "4       Toys & Games                 Puzzles    \n",
       "\n",
       "                      Side Category  \n",
       "0   Skates, Skateboards & Scooters   \n",
       "1               Science Kits & Toys  \n",
       "2                        Craft Kits  \n",
       "3              Models & Model Kits   \n",
       "4                    Jigsaw Puzzles  "
      ]
     },
     "execution_count": 255,
     "metadata": {},
     "output_type": "execute_result"
    }
   ],
   "source": [
    "dataset.head()"
   ]
  },
  {
   "cell_type": "markdown",
   "metadata": {},
   "source": [
    "Recommendation System - Content-Based Filtering"
   ]
  },
  {
   "cell_type": "code",
   "execution_count": 256,
   "metadata": {},
   "outputs": [],
   "source": [
    "#Import packages\n",
    "\n",
    "import numpy as np\n",
    "import pandas as pd\n",
    "\n",
    "from sklearn.feature_extraction.text import TfidfVectorizer\n",
    "from sklearn.metrics.pairwise import linear_kernel"
   ]
  },
  {
   "cell_type": "code",
   "execution_count": 257,
   "metadata": {},
   "outputs": [
    {
     "name": "stdout",
     "output_type": "stream",
     "text": [
      "['about', 'category', 'id', 'main', 'name', 'pounds', 'price', 'product', 'selling', 'shipping', 'side', 'specification', 'sub', 'weight']\n",
      "(9, 14)\n"
     ]
    }
   ],
   "source": [
    "from sklearn.feature_extraction.text import TfidfVectorizer\n",
    "\n",
    "vectorizer = TfidfVectorizer()\n",
    "X = vectorizer.fit_transform(dataset)\n",
    "print(vectorizer.get_feature_names())\n",
    "print(X.shape)"
   ]
  },
  {
   "cell_type": "code",
   "execution_count": 217,
   "metadata": {},
   "outputs": [
    {
     "data": {
      "text/html": [
       "<div>\n",
       "<style scoped>\n",
       "    .dataframe tbody tr th:only-of-type {\n",
       "        vertical-align: middle;\n",
       "    }\n",
       "\n",
       "    .dataframe tbody tr th {\n",
       "        vertical-align: top;\n",
       "    }\n",
       "\n",
       "    .dataframe thead th {\n",
       "        text-align: right;\n",
       "    }\n",
       "</style>\n",
       "<table border=\"1\" class=\"dataframe\">\n",
       "  <thead>\n",
       "    <tr style=\"text-align: right;\">\n",
       "      <th></th>\n",
       "      <th>Id</th>\n",
       "      <th>Product Name</th>\n",
       "      <th>Selling Price($)</th>\n",
       "      <th>About Product</th>\n",
       "      <th>Product Specification</th>\n",
       "      <th>Shipping Weight(Pounds)</th>\n",
       "      <th>Main Category</th>\n",
       "      <th>Sub-Category</th>\n",
       "      <th>Side Category</th>\n",
       "    </tr>\n",
       "  </thead>\n",
       "  <tbody>\n",
       "    <tr>\n",
       "      <th>0</th>\n",
       "      <td>101</td>\n",
       "      <td>DB Longboards CoreFlex Crossbow 41\" Bamboo Fib...</td>\n",
       "      <td>238</td>\n",
       "      <td>Make sure this fits by entering your model num...</td>\n",
       "      <td>Shipping Weight: 10.7 pounds (View shipping ra...</td>\n",
       "      <td>10.7</td>\n",
       "      <td>Sports &amp; Outdoors</td>\n",
       "      <td>Outdoor Recreation</td>\n",
       "      <td>Skates, Skateboards &amp; Scooters</td>\n",
       "    </tr>\n",
       "    <tr>\n",
       "      <th>1</th>\n",
       "      <td>102</td>\n",
       "      <td>Electronic Snap Circuits Mini Kits Classpack, ...</td>\n",
       "      <td>100</td>\n",
       "      <td>Make sure this fits by entering your model num...</td>\n",
       "      <td>Product Dimensions:         14.7 x 11.1 x 10.2...</td>\n",
       "      <td>4</td>\n",
       "      <td>Toys &amp; Games</td>\n",
       "      <td>Learning &amp; Education</td>\n",
       "      <td>Science Kits &amp; Toys</td>\n",
       "    </tr>\n",
       "    <tr>\n",
       "      <th>2</th>\n",
       "      <td>103</td>\n",
       "      <td>3Doodler Create Flexy 3D Printing Filament Ref...</td>\n",
       "      <td>35</td>\n",
       "      <td>Make sure this fits by entering your model num...</td>\n",
       "      <td>ProductDimensions:10.3x3.4x0.8inches|ItemWeigh...</td>\n",
       "      <td>12.8</td>\n",
       "      <td>Toys &amp; Games</td>\n",
       "      <td>Arts &amp; Crafts</td>\n",
       "      <td>Craft Kits</td>\n",
       "    </tr>\n",
       "    <tr>\n",
       "      <th>3</th>\n",
       "      <td>104</td>\n",
       "      <td>Guillow Airplane Design Studio with Travel Cas...</td>\n",
       "      <td>29</td>\n",
       "      <td>Make 8 different Planes at one time. | Experim...</td>\n",
       "      <td>ProductDimensions:3.5x6.2x13inches|ItemWeight:...</td>\n",
       "      <td>13.4</td>\n",
       "      <td>Toys &amp; Games</td>\n",
       "      <td>Hobbies</td>\n",
       "      <td>Models &amp; Model Kits</td>\n",
       "    </tr>\n",
       "    <tr>\n",
       "      <th>4</th>\n",
       "      <td>105</td>\n",
       "      <td>Woodstock- Collage 500 pc Puzzle</td>\n",
       "      <td>17</td>\n",
       "      <td>Make sure this fits by entering your model num...</td>\n",
       "      <td>ProductDimensions:1.9x8x10inches|ItemWeight:13...</td>\n",
       "      <td>13.4</td>\n",
       "      <td>Toys &amp; Games</td>\n",
       "      <td>Puzzles</td>\n",
       "      <td>Jigsaw Puzzles</td>\n",
       "    </tr>\n",
       "  </tbody>\n",
       "</table>\n",
       "</div>"
      ],
      "text/plain": [
       "    Id                                       Product Name Selling Price($)  \\\n",
       "0  101  DB Longboards CoreFlex Crossbow 41\" Bamboo Fib...              238   \n",
       "1  102  Electronic Snap Circuits Mini Kits Classpack, ...              100   \n",
       "2  103  3Doodler Create Flexy 3D Printing Filament Ref...               35   \n",
       "3  104  Guillow Airplane Design Studio with Travel Cas...               29   \n",
       "4  105                   Woodstock- Collage 500 pc Puzzle               17   \n",
       "\n",
       "                                       About Product  \\\n",
       "0  Make sure this fits by entering your model num...   \n",
       "1  Make sure this fits by entering your model num...   \n",
       "2  Make sure this fits by entering your model num...   \n",
       "3  Make 8 different Planes at one time. | Experim...   \n",
       "4  Make sure this fits by entering your model num...   \n",
       "\n",
       "                               Product Specification Shipping Weight(Pounds)  \\\n",
       "0  Shipping Weight: 10.7 pounds (View shipping ra...                   10.7    \n",
       "1  Product Dimensions:         14.7 x 11.1 x 10.2...                      4    \n",
       "2  ProductDimensions:10.3x3.4x0.8inches|ItemWeigh...                   12.8    \n",
       "3  ProductDimensions:3.5x6.2x13inches|ItemWeight:...                   13.4    \n",
       "4  ProductDimensions:1.9x8x10inches|ItemWeight:13...                   13.4    \n",
       "\n",
       "        Main Category            Sub-Category  \\\n",
       "0  Sports & Outdoors      Outdoor Recreation    \n",
       "1       Toys & Games    Learning & Education    \n",
       "2       Toys & Games           Arts & Crafts    \n",
       "3       Toys & Games                 Hobbies    \n",
       "4       Toys & Games                 Puzzles    \n",
       "\n",
       "                      Side Category  \n",
       "0   Skates, Skateboards & Scooters   \n",
       "1               Science Kits & Toys  \n",
       "2                        Craft Kits  \n",
       "3              Models & Model Kits   \n",
       "4                    Jigsaw Puzzles  "
      ]
     },
     "execution_count": 217,
     "metadata": {},
     "output_type": "execute_result"
    }
   ],
   "source": [
    "#Revised dataset to conduct the test \n",
    "dataset.head()"
   ]
  },
  {
   "cell_type": "code",
   "execution_count": 218,
   "metadata": {},
   "outputs": [
    {
     "data": {
      "text/plain": [
       "0    DB Longboards CoreFlex Crossbow 41\" Bamboo Fib...\n",
       "1    Electronic Snap Circuits Mini Kits Classpack, ...\n",
       "2    3Doodler Create Flexy 3D Printing Filament Ref...\n",
       "3    Guillow Airplane Design Studio with Travel Cas...\n",
       "4                     Woodstock- Collage 500 pc Puzzle\n",
       "Name: Product Name, dtype: object"
      ]
     },
     "execution_count": 218,
     "metadata": {},
     "output_type": "execute_result"
    }
   ],
   "source": [
    "dataset[\"Product Name\"].head()"
   ]
  },
  {
   "cell_type": "code",
   "execution_count": 230,
   "metadata": {},
   "outputs": [
    {
     "data": {
      "text/plain": [
       "(7216, 376185)"
      ]
     },
     "execution_count": 230,
     "metadata": {},
     "output_type": "execute_result"
    }
   ],
   "source": [
    "#Creating a TF-IDF Vectorizer\n",
    "#TF(t) = (Number of times term t appears in a document) / (Total number of terms in the document)\n",
    "#IDF(t) = log_e(Total number of documents / Number of documents with term t in it).\n",
    "\n",
    "tf = TfidfVectorizer(analyzer='word', ngram_range=(1, 3), min_df=0, stop_words='english')\n",
    "tfidf_matrix = tf.fit_transform(dataset['About Product'])\n",
    "\n",
    "#Output the shape of tfidf_matrix\n",
    "tfidf_matrix.shape"
   ]
  },
  {
   "cell_type": "markdown",
   "metadata": {},
   "source": [
    "We can observe that there are 94275 vocabularies in our dataset of 7216 products."
   ]
  },
  {
   "cell_type": "code",
   "execution_count": 232,
   "metadata": {},
   "outputs": [
    {
     "data": {
      "text/plain": [
       "['15 hair toe',\n",
       " '15 heads',\n",
       " '15 heads sizes',\n",
       " '15 height',\n",
       " '15 height inches',\n",
       " '15 height weighs',\n",
       " '15 highly',\n",
       " '15 highly engaging',\n",
       " '15 inch',\n",
       " '15 inch 33cm']"
      ]
     },
     "execution_count": 232,
     "metadata": {},
     "output_type": "execute_result"
    }
   ],
   "source": [
    "tf.get_feature_names()[4000:4010]"
   ]
  },
  {
   "cell_type": "code",
   "execution_count": 220,
   "metadata": {},
   "outputs": [
    {
     "ename": "KeyError",
     "evalue": "6584",
     "output_type": "error",
     "traceback": [
      "\u001b[1;31m---------------------------------------------------------------------------\u001b[0m",
      "\u001b[1;31mKeyError\u001b[0m                                  Traceback (most recent call last)",
      "\u001b[1;32m<ipython-input-220-76241d878c70>\u001b[0m in \u001b[0;36m<module>\u001b[1;34m\u001b[0m\n\u001b[0;32m      5\u001b[0m \u001b[1;32mfor\u001b[0m \u001b[0midx\u001b[0m\u001b[1;33m,\u001b[0m \u001b[0mrow\u001b[0m \u001b[1;32min\u001b[0m \u001b[0mdataset\u001b[0m\u001b[1;33m.\u001b[0m\u001b[0miterrows\u001b[0m\u001b[1;33m(\u001b[0m\u001b[1;33m)\u001b[0m\u001b[1;33m:\u001b[0m\u001b[1;33m\u001b[0m\u001b[1;33m\u001b[0m\u001b[0m\n\u001b[0;32m      6\u001b[0m    \u001b[0msimilar_indices\u001b[0m \u001b[1;33m=\u001b[0m \u001b[0mcosine_similarity\u001b[0m\u001b[1;33m[\u001b[0m\u001b[0midx\u001b[0m\u001b[1;33m]\u001b[0m\u001b[1;33m.\u001b[0m\u001b[0margsort\u001b[0m\u001b[1;33m(\u001b[0m\u001b[1;33m)\u001b[0m\u001b[1;33m[\u001b[0m\u001b[1;33m:\u001b[0m\u001b[1;33m-\u001b[0m\u001b[1;36m7216\u001b[0m\u001b[1;33m:\u001b[0m\u001b[1;33m-\u001b[0m\u001b[1;36m1\u001b[0m\u001b[1;33m]\u001b[0m\u001b[1;33m\u001b[0m\u001b[1;33m\u001b[0m\u001b[0m\n\u001b[1;32m----> 7\u001b[1;33m    \u001b[0msimilar_items\u001b[0m \u001b[1;33m=\u001b[0m \u001b[1;33m[\u001b[0m\u001b[1;33m(\u001b[0m\u001b[0mcosine_similarity\u001b[0m\u001b[1;33m[\u001b[0m\u001b[0midx\u001b[0m\u001b[1;33m]\u001b[0m\u001b[1;33m[\u001b[0m\u001b[0mi\u001b[0m\u001b[1;33m]\u001b[0m\u001b[1;33m,\u001b[0m \u001b[0mdataset\u001b[0m\u001b[1;33m[\u001b[0m\u001b[1;34m'Id'\u001b[0m\u001b[1;33m]\u001b[0m\u001b[1;33m[\u001b[0m\u001b[0mi\u001b[0m\u001b[1;33m]\u001b[0m\u001b[1;33m)\u001b[0m \u001b[1;32mfor\u001b[0m \u001b[0mi\u001b[0m \u001b[1;32min\u001b[0m \u001b[0msimilar_indices\u001b[0m\u001b[1;33m]\u001b[0m\u001b[1;33m\u001b[0m\u001b[1;33m\u001b[0m\u001b[0m\n\u001b[0m\u001b[0;32m      8\u001b[0m    \u001b[0mresults\u001b[0m\u001b[1;33m[\u001b[0m\u001b[0mrow\u001b[0m\u001b[1;33m[\u001b[0m\u001b[1;34m'Id'\u001b[0m\u001b[1;33m]\u001b[0m\u001b[1;33m]\u001b[0m \u001b[1;33m=\u001b[0m \u001b[0msimilar_items\u001b[0m\u001b[1;33m[\u001b[0m\u001b[1;36m1\u001b[0m\u001b[1;33m]\u001b[0m\u001b[1;33m\u001b[0m\u001b[1;33m\u001b[0m\u001b[0m\n",
      "\u001b[1;32m<ipython-input-220-76241d878c70>\u001b[0m in \u001b[0;36m<listcomp>\u001b[1;34m(.0)\u001b[0m\n\u001b[0;32m      5\u001b[0m \u001b[1;32mfor\u001b[0m \u001b[0midx\u001b[0m\u001b[1;33m,\u001b[0m \u001b[0mrow\u001b[0m \u001b[1;32min\u001b[0m \u001b[0mdataset\u001b[0m\u001b[1;33m.\u001b[0m\u001b[0miterrows\u001b[0m\u001b[1;33m(\u001b[0m\u001b[1;33m)\u001b[0m\u001b[1;33m:\u001b[0m\u001b[1;33m\u001b[0m\u001b[1;33m\u001b[0m\u001b[0m\n\u001b[0;32m      6\u001b[0m    \u001b[0msimilar_indices\u001b[0m \u001b[1;33m=\u001b[0m \u001b[0mcosine_similarity\u001b[0m\u001b[1;33m[\u001b[0m\u001b[0midx\u001b[0m\u001b[1;33m]\u001b[0m\u001b[1;33m.\u001b[0m\u001b[0margsort\u001b[0m\u001b[1;33m(\u001b[0m\u001b[1;33m)\u001b[0m\u001b[1;33m[\u001b[0m\u001b[1;33m:\u001b[0m\u001b[1;33m-\u001b[0m\u001b[1;36m7216\u001b[0m\u001b[1;33m:\u001b[0m\u001b[1;33m-\u001b[0m\u001b[1;36m1\u001b[0m\u001b[1;33m]\u001b[0m\u001b[1;33m\u001b[0m\u001b[1;33m\u001b[0m\u001b[0m\n\u001b[1;32m----> 7\u001b[1;33m    \u001b[0msimilar_items\u001b[0m \u001b[1;33m=\u001b[0m \u001b[1;33m[\u001b[0m\u001b[1;33m(\u001b[0m\u001b[0mcosine_similarity\u001b[0m\u001b[1;33m[\u001b[0m\u001b[0midx\u001b[0m\u001b[1;33m]\u001b[0m\u001b[1;33m[\u001b[0m\u001b[0mi\u001b[0m\u001b[1;33m]\u001b[0m\u001b[1;33m,\u001b[0m \u001b[0mdataset\u001b[0m\u001b[1;33m[\u001b[0m\u001b[1;34m'Id'\u001b[0m\u001b[1;33m]\u001b[0m\u001b[1;33m[\u001b[0m\u001b[0mi\u001b[0m\u001b[1;33m]\u001b[0m\u001b[1;33m)\u001b[0m \u001b[1;32mfor\u001b[0m \u001b[0mi\u001b[0m \u001b[1;32min\u001b[0m \u001b[0msimilar_indices\u001b[0m\u001b[1;33m]\u001b[0m\u001b[1;33m\u001b[0m\u001b[1;33m\u001b[0m\u001b[0m\n\u001b[0m\u001b[0;32m      8\u001b[0m    \u001b[0mresults\u001b[0m\u001b[1;33m[\u001b[0m\u001b[0mrow\u001b[0m\u001b[1;33m[\u001b[0m\u001b[1;34m'Id'\u001b[0m\u001b[1;33m]\u001b[0m\u001b[1;33m]\u001b[0m \u001b[1;33m=\u001b[0m \u001b[0msimilar_items\u001b[0m\u001b[1;33m[\u001b[0m\u001b[1;36m1\u001b[0m\u001b[1;33m]\u001b[0m\u001b[1;33m\u001b[0m\u001b[1;33m\u001b[0m\u001b[0m\n",
      "\u001b[1;32m~\\anaconda3\\lib\\site-packages\\pandas\\core\\series.py\u001b[0m in \u001b[0;36m__getitem__\u001b[1;34m(self, key)\u001b[0m\n\u001b[0;32m    869\u001b[0m         \u001b[0mkey\u001b[0m \u001b[1;33m=\u001b[0m \u001b[0mcom\u001b[0m\u001b[1;33m.\u001b[0m\u001b[0mapply_if_callable\u001b[0m\u001b[1;33m(\u001b[0m\u001b[0mkey\u001b[0m\u001b[1;33m,\u001b[0m \u001b[0mself\u001b[0m\u001b[1;33m)\u001b[0m\u001b[1;33m\u001b[0m\u001b[1;33m\u001b[0m\u001b[0m\n\u001b[0;32m    870\u001b[0m         \u001b[1;32mtry\u001b[0m\u001b[1;33m:\u001b[0m\u001b[1;33m\u001b[0m\u001b[1;33m\u001b[0m\u001b[0m\n\u001b[1;32m--> 871\u001b[1;33m             \u001b[0mresult\u001b[0m \u001b[1;33m=\u001b[0m \u001b[0mself\u001b[0m\u001b[1;33m.\u001b[0m\u001b[0mindex\u001b[0m\u001b[1;33m.\u001b[0m\u001b[0mget_value\u001b[0m\u001b[1;33m(\u001b[0m\u001b[0mself\u001b[0m\u001b[1;33m,\u001b[0m \u001b[0mkey\u001b[0m\u001b[1;33m)\u001b[0m\u001b[1;33m\u001b[0m\u001b[1;33m\u001b[0m\u001b[0m\n\u001b[0m\u001b[0;32m    872\u001b[0m \u001b[1;33m\u001b[0m\u001b[0m\n\u001b[0;32m    873\u001b[0m             \u001b[1;32mif\u001b[0m \u001b[1;32mnot\u001b[0m \u001b[0mis_scalar\u001b[0m\u001b[1;33m(\u001b[0m\u001b[0mresult\u001b[0m\u001b[1;33m)\u001b[0m\u001b[1;33m:\u001b[0m\u001b[1;33m\u001b[0m\u001b[1;33m\u001b[0m\u001b[0m\n",
      "\u001b[1;32m~\\anaconda3\\lib\\site-packages\\pandas\\core\\indexes\\base.py\u001b[0m in \u001b[0;36mget_value\u001b[1;34m(self, series, key)\u001b[0m\n\u001b[0;32m   4403\u001b[0m         \u001b[0mk\u001b[0m \u001b[1;33m=\u001b[0m \u001b[0mself\u001b[0m\u001b[1;33m.\u001b[0m\u001b[0m_convert_scalar_indexer\u001b[0m\u001b[1;33m(\u001b[0m\u001b[0mk\u001b[0m\u001b[1;33m,\u001b[0m \u001b[0mkind\u001b[0m\u001b[1;33m=\u001b[0m\u001b[1;34m\"getitem\"\u001b[0m\u001b[1;33m)\u001b[0m\u001b[1;33m\u001b[0m\u001b[1;33m\u001b[0m\u001b[0m\n\u001b[0;32m   4404\u001b[0m         \u001b[1;32mtry\u001b[0m\u001b[1;33m:\u001b[0m\u001b[1;33m\u001b[0m\u001b[1;33m\u001b[0m\u001b[0m\n\u001b[1;32m-> 4405\u001b[1;33m             \u001b[1;32mreturn\u001b[0m \u001b[0mself\u001b[0m\u001b[1;33m.\u001b[0m\u001b[0m_engine\u001b[0m\u001b[1;33m.\u001b[0m\u001b[0mget_value\u001b[0m\u001b[1;33m(\u001b[0m\u001b[0ms\u001b[0m\u001b[1;33m,\u001b[0m \u001b[0mk\u001b[0m\u001b[1;33m,\u001b[0m \u001b[0mtz\u001b[0m\u001b[1;33m=\u001b[0m\u001b[0mgetattr\u001b[0m\u001b[1;33m(\u001b[0m\u001b[0mseries\u001b[0m\u001b[1;33m.\u001b[0m\u001b[0mdtype\u001b[0m\u001b[1;33m,\u001b[0m \u001b[1;34m\"tz\"\u001b[0m\u001b[1;33m,\u001b[0m \u001b[1;32mNone\u001b[0m\u001b[1;33m)\u001b[0m\u001b[1;33m)\u001b[0m\u001b[1;33m\u001b[0m\u001b[1;33m\u001b[0m\u001b[0m\n\u001b[0m\u001b[0;32m   4406\u001b[0m         \u001b[1;32mexcept\u001b[0m \u001b[0mKeyError\u001b[0m \u001b[1;32mas\u001b[0m \u001b[0me1\u001b[0m\u001b[1;33m:\u001b[0m\u001b[1;33m\u001b[0m\u001b[1;33m\u001b[0m\u001b[0m\n\u001b[0;32m   4407\u001b[0m             \u001b[1;32mif\u001b[0m \u001b[0mlen\u001b[0m\u001b[1;33m(\u001b[0m\u001b[0mself\u001b[0m\u001b[1;33m)\u001b[0m \u001b[1;33m>\u001b[0m \u001b[1;36m0\u001b[0m \u001b[1;32mand\u001b[0m \u001b[1;33m(\u001b[0m\u001b[0mself\u001b[0m\u001b[1;33m.\u001b[0m\u001b[0mholds_integer\u001b[0m\u001b[1;33m(\u001b[0m\u001b[1;33m)\u001b[0m \u001b[1;32mor\u001b[0m \u001b[0mself\u001b[0m\u001b[1;33m.\u001b[0m\u001b[0mis_boolean\u001b[0m\u001b[1;33m(\u001b[0m\u001b[1;33m)\u001b[0m\u001b[1;33m)\u001b[0m\u001b[1;33m:\u001b[0m\u001b[1;33m\u001b[0m\u001b[1;33m\u001b[0m\u001b[0m\n",
      "\u001b[1;32mpandas\\_libs\\index.pyx\u001b[0m in \u001b[0;36mpandas._libs.index.IndexEngine.get_value\u001b[1;34m()\u001b[0m\n",
      "\u001b[1;32mpandas\\_libs\\index.pyx\u001b[0m in \u001b[0;36mpandas._libs.index.IndexEngine.get_value\u001b[1;34m()\u001b[0m\n",
      "\u001b[1;32mpandas\\_libs\\index.pyx\u001b[0m in \u001b[0;36mpandas._libs.index.IndexEngine.get_loc\u001b[1;34m()\u001b[0m\n",
      "\u001b[1;32mpandas\\_libs\\hashtable_class_helper.pxi\u001b[0m in \u001b[0;36mpandas._libs.hashtable.Int64HashTable.get_item\u001b[1;34m()\u001b[0m\n",
      "\u001b[1;32mpandas\\_libs\\hashtable_class_helper.pxi\u001b[0m in \u001b[0;36mpandas._libs.hashtable.Int64HashTable.get_item\u001b[1;34m()\u001b[0m\n",
      "\u001b[1;31mKeyError\u001b[0m: 6584"
     ]
    }
   ],
   "source": [
    "#Calculating Cosine Similarity\n",
    "from sklearn.metrics.pairwise import cosine_similarity\n",
    "cosine_similarity = linear_kernel(tfidf_matrix, tfidf_matrix)\n",
    "results = {}\n",
    "for idx, row in dataset.iterrows():\n",
    "   similar_indices = cosine_similarity[idx].argsort()[:-7216:-1] \n",
    "   similar_items = [(cosine_similarity[idx][i], dataset['Id'][i]) for i in similar_indices] \n",
    "   results[row['Id']] = similar_items[1]"
   ]
  },
  {
   "cell_type": "code",
   "execution_count": null,
   "metadata": {},
   "outputs": [],
   "source": []
  },
  {
   "cell_type": "code",
   "execution_count": null,
   "metadata": {},
   "outputs": [],
   "source": []
  }
 ],
 "metadata": {
  "kernelspec": {
   "display_name": "Python 3",
   "language": "python",
   "name": "python3"
  },
  "language_info": {
   "codemirror_mode": {
    "name": "ipython",
    "version": 3
   },
   "file_extension": ".py",
   "mimetype": "text/x-python",
   "name": "python",
   "nbconvert_exporter": "python",
   "pygments_lexer": "ipython3",
   "version": "3.8.3"
  }
 },
 "nbformat": 4,
 "nbformat_minor": 4
}
