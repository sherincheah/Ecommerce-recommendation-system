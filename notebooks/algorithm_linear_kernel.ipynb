{
 "cells": [
  {
   "cell_type": "markdown",
   "metadata": {},
   "source": [
    "# Background"
   ]
  },
  {
   "cell_type": "markdown",
   "metadata": {},
   "source": [
    "asdkfnakdj aksdjhfaklsd ad"
   ]
  },
  {
   "cell_type": "markdown",
   "metadata": {},
   "source": [
    "# Import Libraries"
   ]
  },
  {
   "cell_type": "code",
   "execution_count": 54,
   "metadata": {},
   "outputs": [],
   "source": [
    "import pandas as pd\n",
    "pd.set_option('display.max_rows', None)\n",
    "pd.set_option('display.max_columns', None)\n",
    "pd.set_option('display.width', 2000)\n",
    "pd.set_option('display.float_format', '{:20,.2f}'.format)\n",
    "pd.set_option('display.max_colwidth', None)\n"
   ]
  },
  {
   "cell_type": "code",
   "execution_count": 2,
   "metadata": {},
   "outputs": [],
   "source": [
    "# Import dataset"
   ]
  },
  {
   "cell_type": "markdown",
   "metadata": {},
   "source": [
    "# Import Data"
   ]
  },
  {
   "cell_type": "code",
   "execution_count": 4,
   "metadata": {},
   "outputs": [
    {
     "data": {
      "text/plain": [
       "0    Sports & Outdoors | Outdoor Recreation | Skate...\n",
       "1    Toys & Games | Learning & Education | Science ...\n",
       "2            Toys & Games | Arts & Crafts | Craft Kits\n",
       "3    Toys & Games | Hobbies | Models & Model Kits |...\n",
       "4              Toys & Games | Puzzles | Jigsaw Puzzles\n",
       "Name: Category, dtype: object"
      ]
     },
     "execution_count": 4,
     "metadata": {},
     "output_type": "execute_result"
    }
   ],
   "source": [
    "dataset = pd.read_csv(\"../data/amazon products.csv\")\n",
    "dataset[\"Category\"].head()"
   ]
  },
  {
   "cell_type": "code",
   "execution_count": 5,
   "metadata": {},
   "outputs": [
    {
     "name": "stdout",
     "output_type": "stream",
     "text": [
      "<class 'pandas.core.frame.DataFrame'>\n",
      "RangeIndex: 10002 entries, 0 to 10001\n",
      "Data columns (total 28 columns):\n",
      " #   Column                 Non-Null Count  Dtype  \n",
      "---  ------                 --------------  -----  \n",
      " 0   Uniq Id                10002 non-null  object \n",
      " 1   Product Name           10002 non-null  object \n",
      " 2   Brand Name             0 non-null      float64\n",
      " 3   Asin                   0 non-null      float64\n",
      " 4   Category               9172 non-null   object \n",
      " 5   Upc Ean Code           34 non-null     object \n",
      " 6   List Price             0 non-null      float64\n",
      " 7   Selling Price          9895 non-null   object \n",
      " 8   Quantity               0 non-null      float64\n",
      " 9   Model Number           8232 non-null   object \n",
      " 10  About Product          9729 non-null   object \n",
      " 11  Product Specification  8370 non-null   object \n",
      " 12  Technical Details      9212 non-null   object \n",
      " 13  Shipping Weight        8864 non-null   object \n",
      " 14  Product Dimensions     479 non-null    object \n",
      " 15  Image                  10002 non-null  object \n",
      " 16  Variants               2478 non-null   object \n",
      " 17  Sku                    0 non-null      float64\n",
      " 18  Product Url            10002 non-null  object \n",
      " 19  Stock                  0 non-null      float64\n",
      " 20  Product Details        0 non-null      float64\n",
      " 21  Dimensions             0 non-null      float64\n",
      " 22  Color                  0 non-null      float64\n",
      " 23  Ingredients            0 non-null      float64\n",
      " 24  Direction To Use       0 non-null      float64\n",
      " 25  Is Amazon Seller       10002 non-null  object \n",
      " 26  Size Quantity Variant  0 non-null      float64\n",
      " 27  Product Description    0 non-null      float64\n",
      "dtypes: float64(13), object(15)\n",
      "memory usage: 2.1+ MB\n"
     ]
    }
   ],
   "source": [
    "dataset.info()"
   ]
  },
  {
   "cell_type": "code",
   "execution_count": 86,
   "metadata": {},
   "outputs": [],
   "source": [
    "dataset['Selling Price_processed'] = dataset['Selling Price'].apply(lambda x: str(x).replace('$',''))\n",
    "dataset['Selling Price_processed'] = dataset['Selling Price_processed'].astype(float)"
   ]
  },
  {
   "cell_type": "markdown",
   "metadata": {},
   "source": [
    "We can compute the similarity between product descriptions using TfidfVectorizer"
   ]
  },
  {
   "cell_type": "markdown",
   "metadata": {},
   "source": [
    "# TF-IDF "
   ]
  },
  {
   "cell_type": "code",
   "execution_count": 6,
   "metadata": {},
   "outputs": [
    {
     "data": {
      "text/plain": [
       "(10002, 1133)"
      ]
     },
     "execution_count": 6,
     "metadata": {},
     "output_type": "execute_result"
    }
   ],
   "source": [
    "#Import TfIdfVectorizer from scikit-learn\n",
    "from sklearn.feature_extraction.text import TfidfVectorizer\n",
    "\n",
    "#Define a TF-IDF Vectorizer Object. Remove all english stop words such as 'the', 'a'\n",
    "tfidf = TfidfVectorizer(stop_words='english')\n",
    "\n",
    "#Replace NaN with an empty string\n",
    "dataset[\"Category\"] = dataset[\"Category\"].fillna(\"\")\n",
    "\n",
    "#Construct the required TF-IDF matrix by fitting and transforming the data\n",
    "tfidf_matrix = tfidf.fit_transform(dataset[\"Category\"])\n",
    "\n",
    "#Output the shape of tfidf_matrix\n",
    "tfidf_matrix.shape"
   ]
  },
  {
   "cell_type": "markdown",
   "metadata": {},
   "source": [
    "We can observe that there are 1133 vocabularies in our dataset of 10002 products."
   ]
  },
  {
   "cell_type": "code",
   "execution_count": 7,
   "metadata": {},
   "outputs": [
    {
     "data": {
      "text/plain": [
       "['accent',\n",
       " 'accents',\n",
       " 'accessories',\n",
       " 'accessory',\n",
       " 'action',\n",
       " 'activities',\n",
       " 'activity',\n",
       " 'additives',\n",
       " 'adhesives',\n",
       " 'adirondack',\n",
       " 'adult',\n",
       " 'advent',\n",
       " 'agility',\n",
       " 'aids',\n",
       " 'air',\n",
       " 'airbrush',\n",
       " 'aircraft',\n",
       " 'airplane',\n",
       " 'airplanes',\n",
       " 'albums']"
      ]
     },
     "execution_count": 7,
     "metadata": {},
     "output_type": "execute_result"
    }
   ],
   "source": [
    "#Array mapping from feature integer indices to feature name.\n",
    "tfidf.get_feature_names()[0:20]"
   ]
  },
  {
   "cell_type": "markdown",
   "metadata": {},
   "source": [
    "We will use this matrix to calculate the similarity score with linear kernel, cosine similarity and sigmoid score."
   ]
  },
  {
   "cell_type": "markdown",
   "metadata": {},
   "source": [
    "# Content-Based Filtering"
   ]
  },
  {
   "cell_type": "code",
   "execution_count": 8,
   "metadata": {},
   "outputs": [],
   "source": [
    "# Import linear_kernel, cosine_similarity, and sigmoid_kernel\n",
    "from sklearn.metrics.pairwise import linear_kernel\n",
    "from sklearn.metrics.pairwise import cosine_similarity\n",
    "from sklearn.metrics.pairwise import sigmoid_kernel\n",
    "\n",
    "# Compute the cosine similarity matrix\n",
    "linear = linear_kernel(tfidf_matrix, tfidf_matrix)\n",
    "cosine_sim = cosine_similarity(tfidf_matrix, tfidf_matrix)\n",
    "sig_score = sigmoid_kernel(tfidf_matrix, tfidf_matrix)"
   ]
  },
  {
   "cell_type": "code",
   "execution_count": 9,
   "metadata": {},
   "outputs": [
    {
     "name": "stdout",
     "output_type": "stream",
     "text": [
      "(10002, 10002)\n",
      "(10002, 10002)\n",
      "(10002, 10002)\n"
     ]
    }
   ],
   "source": [
    "print(linear.shape)\n",
    "print(cosine_sim.shape)\n",
    "print(sig_score.shape)"
   ]
  },
  {
   "cell_type": "code",
   "execution_count": 10,
   "metadata": {},
   "outputs": [
    {
     "name": "stdout",
     "output_type": "stream",
     "text": [
      "[0.         1.         0.27876877 ... 0.25244281 0.27876877 0.        ]\n",
      "[0.         1.         0.27876877 ... 0.25244281 0.27876877 0.        ]\n",
      "[0.76159416 0.76196458 0.76169747 ... 0.76168771 0.76169747 0.76159416]\n"
     ]
    }
   ],
   "source": [
    "print(linear[1])\n",
    "print(cosine_sim[1])\n",
    "print(sig_score[1])"
   ]
  },
  {
   "cell_type": "markdown",
   "metadata": {},
   "source": [
    "This matrix represents each product category's similarity score with every other product category."
   ]
  },
  {
   "cell_type": "markdown",
   "metadata": {},
   "source": [
    "We need to define a function that takes the product name as an input and outputs a list of the 10 most similar products. For this we need a reverse mapping of products and DataFrame indices. This means we need a mechanism to identify the index of a product in our DataFrame."
   ]
  },
  {
   "cell_type": "code",
   "execution_count": 11,
   "metadata": {},
   "outputs": [],
   "source": [
    "#Construct a reverse map of indices and product names\n",
    "indices = pd.Series(dataset.index, index=dataset[\"Product Name\"])"
   ]
  },
  {
   "cell_type": "code",
   "execution_count": 12,
   "metadata": {},
   "outputs": [
    {
     "data": {
      "text/plain": [
       "Product Name\n",
       "DB Longboards CoreFlex Crossbow 41\" Bamboo Fiberglass Longboard Complete                                                                             0\n",
       "Electronic Snap Circuits Mini Kits Classpack, FM Radio, Motion Detector, Music Box (Set of 5)                                                        1\n",
       "3Doodler Create Flexy 3D Printing Filament Refill Bundle (X5 Pack, Over 1000'. of Extruded Plastics! - Innovate                                      2\n",
       "Guillow Airplane Design Studio with Travel Case Building Kit                                                                                         3\n",
       "Woodstock- Collage 500 pc Puzzle                                                                                                                     4\n",
       "Terra by Battat – 4 Dinosaur Toys, Medium – Dinosaurs for Kids & Collectors, Scientifically Accurate & Designed by A Paleo-Artist; Age 3+ (4 Pc)     5\n",
       "Rubie's Child's Pokemon Deluxe Pikachu Costume, X-Small                                                                                              6\n",
       "Hoffmaster 120813 Double-Tipped Triangular Crayon, 88 mm Length, Wrapped (500 Packs of 2)                                                            7\n",
       "ARTSCAPE Etched Glass 24\" x 36\" Window Film, 24-by-36-Inch                                                                                           8\n",
       "Pokemon TCG: Sun and Moon Crimson Invasion Elite Trainer Box                                                                                         9\n",
       "Moonlite, 3-Story Bundle for Boys, Includes 3 Story Reels for Use with Storybook Projector                                                          10\n",
       "DC Cover Girls: Black Canary by Joëlle Jones Statue                                                                                                 11\n",
       "Baby Doll Bedding Chevron Window Valance and Curtain Set, Orange                                                                                    12\n",
       "LEGO Minecraft Creeper BigFig and Ocelot Characters 21156 Buildable Toy Minecraft Figure Gift Set for Play and Decoration, New 2020 (184 Pieces)    13\n",
       "C&D Visionary DC Comic Originals Flash Logo Sticker                                                                                                 14\n",
       "The Learning Journey ABC Melody Maker, Primary                                                                                                      15\n",
       "The Complete Common Core: State Standards Kit, Grade 5                                                                                              16\n",
       "Flash Furniture 25''W x 45''L Trapezoid Red HP Laminate Activity Table - Height Adjustable Short Legs                                               17\n",
       "Schylling Veterinarian Kit                                                                                                                          18\n",
       "Yellies! Frizz; Voice-Activated Spider Pet; Ages 5 & Up                                                                                             19\n",
       "dtype: int64"
      ]
     },
     "execution_count": 12,
     "metadata": {},
     "output_type": "execute_result"
    }
   ],
   "source": [
    "indices[:20]"
   ]
  },
  {
   "cell_type": "markdown",
   "metadata": {},
   "source": [
    "# UDF"
   ]
  },
  {
   "cell_type": "code",
   "execution_count": 29,
   "metadata": {},
   "outputs": [],
   "source": [
    "from fuzzywuzzy import fuzz\n",
    "from fuzzywuzzy import process"
   ]
  },
  {
   "cell_type": "code",
   "execution_count": 37,
   "metadata": {},
   "outputs": [],
   "source": [
    "choices = list(indices.index)"
   ]
  },
  {
   "cell_type": "code",
   "execution_count": 43,
   "metadata": {},
   "outputs": [
    {
     "name": "stdout",
     "output_type": "stream",
     "text": [
      "CPU times: user 14 s, sys: 234 ms, total: 14.3 s\n",
      "Wall time: 14.6 s\n"
     ]
    },
    {
     "data": {
      "text/plain": [
       "'Clank!, Base'"
      ]
     },
     "execution_count": 43,
     "metadata": {},
     "output_type": "execute_result"
    }
   ],
   "source": [
    "%%time\n",
    "\n",
    "extracted = process.extract(\"lego\", choices, limit=1)\n",
    "extracted[0][0]"
   ]
  },
  {
   "cell_type": "code",
   "execution_count": 89,
   "metadata": {},
   "outputs": [],
   "source": [
    "# Function that takes in product name as input and outputs most similar product\n",
    "def rec_lin(user_input, linear=linear):\n",
    "    \n",
    "    # use fuzzywuzzy to grab the product with name closest to user input\n",
    "    extracted = process.extract(user_input, choices, limit=1)\n",
    "    product_name = extracted[0][0]\n",
    "    \n",
    "    # Get the index of the product that matches the product name\n",
    "    idx = indices[product_name]\n",
    "\n",
    "    # Get the pairwise similarity scores\n",
    "    sim_scores = list(enumerate(linear[idx]))\n",
    "\n",
    "    # Sort the products based on the similarity scores\n",
    "    sim_scores = sorted(sim_scores, key=lambda x: x[1], reverse=True)\n",
    "\n",
    "    # Get the scores of the 10 most similar products\n",
    "    sim_scores = sim_scores[1:11]\n",
    "\n",
    "    # Get the product indices\n",
    "    product_indices = [i[0] for i in sim_scores]\n",
    "\n",
    "    df_return = dataset[[\"Product Name\",\"Selling Price\", \"Selling Price_processed\"]].loc[product_indices]\n",
    "    # Return the top 10 most similar products\n",
    "    return df_return.sort_values(by=\"Selling Price_processed\", ascending=True)[[\"Product Name\",\"Selling Price\"]]"
   ]
  },
  {
   "cell_type": "code",
   "execution_count": 90,
   "metadata": {
    "scrolled": true
   },
   "outputs": [
    {
     "name": "stdout",
     "output_type": "stream",
     "text": [
      "What would you like to search for today? cube\n"
     ]
    },
    {
     "data": {
      "text/html": [
       "<div>\n",
       "<style scoped>\n",
       "    .dataframe tbody tr th:only-of-type {\n",
       "        vertical-align: middle;\n",
       "    }\n",
       "\n",
       "    .dataframe tbody tr th {\n",
       "        vertical-align: top;\n",
       "    }\n",
       "\n",
       "    .dataframe thead th {\n",
       "        text-align: right;\n",
       "    }\n",
       "</style>\n",
       "<table border=\"1\" class=\"dataframe\">\n",
       "  <thead>\n",
       "    <tr style=\"text-align: right;\">\n",
       "      <th></th>\n",
       "      <th>Product Name</th>\n",
       "      <th>Selling Price</th>\n",
       "    </tr>\n",
       "  </thead>\n",
       "  <tbody>\n",
       "    <tr>\n",
       "      <th>1156</th>\n",
       "      <td>ETA hand2mind Blue Plastic Base Ten Rods, Set of 50</td>\n",
       "      <td>$6.95</td>\n",
       "    </tr>\n",
       "    <tr>\n",
       "      <th>3165</th>\n",
       "      <td>Melissa &amp; Doug Disney Baby Mickey Mouse and Donald Duck Wooden Stacker Toy (12 pcs)</td>\n",
       "      <td>$8.99</td>\n",
       "    </tr>\n",
       "    <tr>\n",
       "      <th>433</th>\n",
       "      <td>Loftus SW-0249 4 Pc Classic Wooden Games in A Tin Set, 6 inches Long, Brown</td>\n",
       "      <td>$12.54</td>\n",
       "    </tr>\n",
       "    <tr>\n",
       "      <th>172</th>\n",
       "      <td>BeginAgain BuddyBlocks Safari Animals - Matching and Problem Solving - Kids 18 Months and Up</td>\n",
       "      <td>$12.99</td>\n",
       "    </tr>\n",
       "    <tr>\n",
       "      <th>3098</th>\n",
       "      <td>Constructive Playthings CPX-594 Animal Stack &amp; Count/Number Sort Animal Counters</td>\n",
       "      <td>$13.99</td>\n",
       "    </tr>\n",
       "    <tr>\n",
       "      <th>1628</th>\n",
       "      <td>Infantino Stack &amp; Spin Seal</td>\n",
       "      <td>$14.23</td>\n",
       "    </tr>\n",
       "    <tr>\n",
       "      <th>214</th>\n",
       "      <td>TOMY John Deere Learn 'n Pop Farmyard Friends Toy</td>\n",
       "      <td>$14.99</td>\n",
       "    </tr>\n",
       "    <tr>\n",
       "      <th>1382</th>\n",
       "      <td>Little Tikes Lil' Ocean Explorers - Ball Chase Octopus</td>\n",
       "      <td>$14.99</td>\n",
       "    </tr>\n",
       "    <tr>\n",
       "      <th>2956</th>\n",
       "      <td>Melissa &amp; Doug Counting Shape Stacker (Wooden Educational Toy with 55 Shapes and 10 Number Tiles)</td>\n",
       "      <td>$19.19</td>\n",
       "    </tr>\n",
       "    <tr>\n",
       "      <th>666</th>\n",
       "      <td>Bigjigs Toys Stacking Cubes</td>\n",
       "      <td>$31.50</td>\n",
       "    </tr>\n",
       "  </tbody>\n",
       "</table>\n",
       "</div>"
      ],
      "text/plain": [
       "                                                                                           Product Name Selling Price\n",
       "1156                                                ETA hand2mind Blue Plastic Base Ten Rods, Set of 50         $6.95\n",
       "3165                Melissa & Doug Disney Baby Mickey Mouse and Donald Duck Wooden Stacker Toy (12 pcs)         $8.99\n",
       "433                         Loftus SW-0249 4 Pc Classic Wooden Games in A Tin Set, 6 inches Long, Brown        $12.54\n",
       "172        BeginAgain BuddyBlocks Safari Animals - Matching and Problem Solving - Kids 18 Months and Up        $12.99\n",
       "3098                   Constructive Playthings CPX-594 Animal Stack & Count/Number Sort Animal Counters        $13.99\n",
       "1628                                                                        Infantino Stack & Spin Seal        $14.23\n",
       "214                                                   TOMY John Deere Learn 'n Pop Farmyard Friends Toy        $14.99\n",
       "1382                                             Little Tikes Lil' Ocean Explorers - Ball Chase Octopus        $14.99\n",
       "2956  Melissa & Doug Counting Shape Stacker (Wooden Educational Toy with 55 Shapes and 10 Number Tiles)        $19.19\n",
       "666                                                                         Bigjigs Toys Stacking Cubes        $31.50"
      ]
     },
     "execution_count": 90,
     "metadata": {},
     "output_type": "execute_result"
    }
   ],
   "source": [
    "name = input(\"What would you like to search for today? \")\n",
    "rec_lin(name)"
   ]
  },
  {
   "cell_type": "code",
   "execution_count": null,
   "metadata": {},
   "outputs": [],
   "source": []
  }
 ],
 "metadata": {
  "kernelspec": {
   "display_name": "Python 3",
   "language": "python",
   "name": "python3"
  },
  "language_info": {
   "codemirror_mode": {
    "name": "ipython",
    "version": 3
   },
   "file_extension": ".py",
   "mimetype": "text/x-python",
   "name": "python",
   "nbconvert_exporter": "python",
   "pygments_lexer": "ipython3",
   "version": "3.8.3"
  }
 },
 "nbformat": 4,
 "nbformat_minor": 4
}
