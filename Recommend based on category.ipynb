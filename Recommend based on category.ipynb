{
 "cells": [
  {
   "cell_type": "markdown",
   "metadata": {},
   "source": [
    "Reference: https://www.datacamp.com/community/tutorials/recommender-systems-python"
   ]
  },
  {
   "cell_type": "code",
   "execution_count": 2,
   "metadata": {},
   "outputs": [],
   "source": [
    "# Import packages"
   ]
  },
  {
   "cell_type": "code",
   "execution_count": 3,
   "metadata": {},
   "outputs": [],
   "source": [
    "import pandas as pd"
   ]
  },
  {
   "cell_type": "code",
   "execution_count": 4,
   "metadata": {},
   "outputs": [],
   "source": [
    "# Import dataset"
   ]
  },
  {
   "cell_type": "code",
   "execution_count": 5,
   "metadata": {},
   "outputs": [
    {
     "data": {
      "text/plain": [
       "0    Sports & Outdoors | Outdoor Recreation | Skate...\n",
       "1    Toys & Games | Learning & Education | Science ...\n",
       "2            Toys & Games | Arts & Crafts | Craft Kits\n",
       "3    Toys & Games | Hobbies | Models & Model Kits |...\n",
       "4              Toys & Games | Puzzles | Jigsaw Puzzles\n",
       "Name: category, dtype: object"
      ]
     },
     "execution_count": 5,
     "metadata": {},
     "output_type": "execute_result"
    }
   ],
   "source": [
    "dataset = pd.read_csv(\"marketing_sample_for_amazon_com_ecommerce_20200101_20200131_10k_data.csv\")\n",
    "dataset[\"category\"].head()"
   ]
  },
  {
   "cell_type": "code",
   "execution_count": 6,
   "metadata": {},
   "outputs": [
    {
     "name": "stdout",
     "output_type": "stream",
     "text": [
      "<class 'pandas.core.frame.DataFrame'>\n",
      "RangeIndex: 10002 entries, 0 to 10001\n",
      "Data columns (total 28 columns):\n",
      " #   Column                 Non-Null Count  Dtype  \n",
      "---  ------                 --------------  -----  \n",
      " 0   uniq_id                10002 non-null  object \n",
      " 1   product_name           10002 non-null  object \n",
      " 2   brand_name             0 non-null      float64\n",
      " 3   asin                   0 non-null      float64\n",
      " 4   category               9172 non-null   object \n",
      " 5   upc_ean_code           34 non-null     object \n",
      " 6   list_price             0 non-null      float64\n",
      " 7   selling_price          9895 non-null   object \n",
      " 8   quantity               0 non-null      float64\n",
      " 9   model_number           8232 non-null   object \n",
      " 10  about_product          9729 non-null   object \n",
      " 11  product_specification  8370 non-null   object \n",
      " 12  technical_details      9212 non-null   object \n",
      " 13  shipping_weight        8864 non-null   object \n",
      " 14  product_dimensions     479 non-null    object \n",
      " 15  image                  10002 non-null  object \n",
      " 16  variants               2478 non-null   object \n",
      " 17  sku                    0 non-null      float64\n",
      " 18  product_url            10002 non-null  object \n",
      " 19  stock                  0 non-null      float64\n",
      " 20  product_details        0 non-null      float64\n",
      " 21  dimensions             0 non-null      float64\n",
      " 22  color                  0 non-null      float64\n",
      " 23  ingredients            0 non-null      float64\n",
      " 24  direction_to_use       0 non-null      float64\n",
      " 25  is_amazon_seller       10002 non-null  object \n",
      " 26  size_quantity_variant  0 non-null      float64\n",
      " 27  product_description    0 non-null      float64\n",
      "dtypes: float64(13), object(15)\n",
      "memory usage: 2.1+ MB\n"
     ]
    }
   ],
   "source": [
    "dataset.info()"
   ]
  },
  {
   "cell_type": "markdown",
   "metadata": {},
   "source": [
    "We can compute the similarity between product descriptions using TfidfVectorizer"
   ]
  },
  {
   "cell_type": "code",
   "execution_count": 7,
   "metadata": {},
   "outputs": [
    {
     "data": {
      "text/plain": [
       "(10002, 1133)"
      ]
     },
     "execution_count": 7,
     "metadata": {},
     "output_type": "execute_result"
    }
   ],
   "source": [
    "#Import TfIdfVectorizer from scikit-learn\n",
    "from sklearn.feature_extraction.text import TfidfVectorizer\n",
    "\n",
    "#Define a TF-IDF Vectorizer Object. Remove all english stop words such as 'the', 'a'\n",
    "tfidf = TfidfVectorizer(stop_words='english')\n",
    "\n",
    "#Replace NaN with an empty string\n",
    "dataset[\"category\"] = dataset[\"category\"].fillna(\"\")\n",
    "\n",
    "#Construct the required TF-IDF matrix by fitting and transforming the data\n",
    "tfidf_matrix = tfidf.fit_transform(dataset[\"category\"])\n",
    "\n",
    "#Output the shape of tfidf_matrix\n",
    "tfidf_matrix.shape"
   ]
  },
  {
   "cell_type": "markdown",
   "metadata": {},
   "source": [
    "We can observe that there are 1133 vocabularies in our dataset of 10002 products."
   ]
  },
  {
   "cell_type": "code",
   "execution_count": 8,
   "metadata": {},
   "outputs": [
    {
     "data": {
      "text/plain": [
       "['accent',\n",
       " 'accents',\n",
       " 'accessories',\n",
       " 'accessory',\n",
       " 'action',\n",
       " 'activities',\n",
       " 'activity',\n",
       " 'additives',\n",
       " 'adhesives',\n",
       " 'adirondack',\n",
       " 'adult',\n",
       " 'advent',\n",
       " 'agility',\n",
       " 'aids',\n",
       " 'air',\n",
       " 'airbrush',\n",
       " 'aircraft',\n",
       " 'airplane',\n",
       " 'airplanes',\n",
       " 'albums']"
      ]
     },
     "execution_count": 8,
     "metadata": {},
     "output_type": "execute_result"
    }
   ],
   "source": [
    "#Array mapping from feature integer indices to feature name.\n",
    "tfidf.get_feature_names()[0:20]"
   ]
  },
  {
   "cell_type": "markdown",
   "metadata": {},
   "source": [
    "We will use this matrix to calculate the similarity score with cosine similarity"
   ]
  },
  {
   "cell_type": "code",
   "execution_count": 9,
   "metadata": {},
   "outputs": [],
   "source": [
    "# Import linear_kernel\n",
    "from sklearn.metrics.pairwise import linear_kernel\n",
    "\n",
    "# Compute the cosine similarity matrix\n",
    "cosine_sim = linear_kernel(tfidf_matrix, tfidf_matrix)"
   ]
  },
  {
   "cell_type": "code",
   "execution_count": 10,
   "metadata": {},
   "outputs": [
    {
     "data": {
      "text/plain": [
       "(10002, 10002)"
      ]
     },
     "execution_count": 10,
     "metadata": {},
     "output_type": "execute_result"
    }
   ],
   "source": [
    "cosine_sim.shape"
   ]
  },
  {
   "cell_type": "code",
   "execution_count": 11,
   "metadata": {},
   "outputs": [
    {
     "data": {
      "text/plain": [
       "array([0.        , 1.        , 0.27876877, ..., 0.25244281, 0.27876877,\n",
       "       0.        ])"
      ]
     },
     "execution_count": 11,
     "metadata": {},
     "output_type": "execute_result"
    }
   ],
   "source": [
    "cosine_sim[1]"
   ]
  },
  {
   "cell_type": "markdown",
   "metadata": {},
   "source": [
    "This matrix represents each product category's similarity score with every other product category."
   ]
  },
  {
   "cell_type": "markdown",
   "metadata": {},
   "source": [
    "We need to define a function that takes the product name as an input and outputs a list of the 10 most similar products. For this we need a reverse mapping of products and DataFrame indices. This means we need a mechanism to identify the index of a product in our DataFrame."
   ]
  },
  {
   "cell_type": "code",
   "execution_count": 12,
   "metadata": {},
   "outputs": [],
   "source": [
    "#Construct a reverse map of indices and product names\n",
    "indices = pd.Series(dataset.index, index=dataset[\"product_name\"])"
   ]
  },
  {
   "cell_type": "code",
   "execution_count": 13,
   "metadata": {},
   "outputs": [
    {
     "data": {
      "text/plain": [
       "product_name\n",
       "DB Longboards CoreFlex Crossbow 41\" Bamboo Fiberglass Longboard Complete                                                                             0\n",
       "Electronic Snap Circuits Mini Kits Classpack, FM Radio, Motion Detector, Music Box (Set of 5)                                                        1\n",
       "3Doodler Create Flexy 3D Printing Filament Refill Bundle (X5 Pack, Over 1000'. of Extruded Plastics! - Innovate                                      2\n",
       "Guillow Airplane Design Studio with Travel Case Building Kit                                                                                         3\n",
       "Woodstock- Collage 500 pc Puzzle                                                                                                                     4\n",
       "Terra by Battat – 4 Dinosaur Toys, Medium – Dinosaurs for Kids & Collectors, Scientifically Accurate & Designed by A Paleo-Artist; Age 3+ (4 Pc)     5\n",
       "Rubie's Child's Pokemon Deluxe Pikachu Costume, X-Small                                                                                              6\n",
       "Hoffmaster 120813 Double-Tipped Triangular Crayon, 88 mm Length, Wrapped (500 Packs of 2)                                                            7\n",
       "ARTSCAPE Etched Glass 24\" x 36\" Window Film, 24-by-36-Inch                                                                                           8\n",
       "Pokemon TCG: Sun and Moon Crimson Invasion Elite Trainer Box                                                                                         9\n",
       "Moonlite, 3-Story Bundle for Boys, Includes 3 Story Reels for Use with Storybook Projector                                                          10\n",
       "DC Cover Girls: Black Canary by Joëlle Jones Statue                                                                                                 11\n",
       "Baby Doll Bedding Chevron Window Valance and Curtain Set, Orange                                                                                    12\n",
       "LEGO Minecraft Creeper BigFig and Ocelot Characters 21156 Buildable Toy Minecraft Figure Gift Set for Play and Decoration, New 2020 (184 Pieces)    13\n",
       "C&D Visionary DC Comic Originals Flash Logo Sticker                                                                                                 14\n",
       "The Learning Journey ABC Melody Maker, Primary                                                                                                      15\n",
       "The Complete Common Core: State Standards Kit, Grade 5                                                                                              16\n",
       "Flash Furniture 25''W x 45''L Trapezoid Red HP Laminate Activity Table - Height Adjustable Short Legs                                               17\n",
       "Schylling Veterinarian Kit                                                                                                                          18\n",
       "Yellies! Frizz; Voice-Activated Spider Pet; Ages 5 & Up                                                                                             19\n",
       "dtype: int64"
      ]
     },
     "execution_count": 13,
     "metadata": {},
     "output_type": "execute_result"
    }
   ],
   "source": [
    "indices[:20]"
   ]
  },
  {
   "cell_type": "code",
   "execution_count": 14,
   "metadata": {},
   "outputs": [],
   "source": [
    "# Function that takes in product name as input and outputs most similar product\n",
    "def get_recommendations(product_name, cosine_sim=cosine_sim):\n",
    "    # Get the index of the product that matches the product name\n",
    "    idx = indices[product_name]\n",
    "\n",
    "    # Get the pairwise similarity scores\n",
    "    sim_scores = list(enumerate(cosine_sim[idx]))\n",
    "\n",
    "    # Sort the products based on the similarity scores\n",
    "    sim_scores = sorted(sim_scores, key=lambda x: x[1], reverse=True)\n",
    "\n",
    "    # Get the scores of the 10 most similar products\n",
    "    sim_scores = sim_scores[1:11]\n",
    "\n",
    "    # Get the product indices\n",
    "    product_indices = [i[0] for i in sim_scores]\n",
    "\n",
    "    # Return the top 10 most similar products\n",
    "    return dataset[[\"product_name\",\"selling_price\"]].iloc[product_indices]"
   ]
  },
  {
   "cell_type": "code",
   "execution_count": 15,
   "metadata": {
    "scrolled": false
   },
   "outputs": [
    {
     "name": "stdout",
     "output_type": "stream",
     "text": [
      "What would you like to search for today? Yellies! Frizz; Voice-Activated Spider Pet; Ages 5 & Up\n",
      "                                           product_name selling_price\n",
      "19    Yellies! Frizz; Voice-Activated Spider Pet; Ag...        $17.85\n",
      "750   Bright Starts Lots of Links Accessory and Baby...        $13.42\n",
      "779           Basic Fun Fisher-Price Play Tape Recorder        $49.99\n",
      "1091  Manhattan Toy Musical Shapes Maraca Wooden Tod...         $7.99\n",
      "1650                      Playgo Musical Spinning Wheel        $19.95\n",
      "1818           Disney Baby Dumbo On The Go Activity Toy        $15.00\n",
      "3502  Singing Machine Kids Candy House Portable Blue...        $35.74\n",
      "3518    Hape Toddler Beat Box Set, Wooden Music Toy Set        $32.00\n",
      "3521                        Playtex Musical Monkey Blue         $8.99\n",
      "3578                   Fisher-Price Musical Smart Phone         $4.99\n"
     ]
    }
   ],
   "source": [
    "name = input(\"What would you like to search for today? \")\n",
    "result = get_recommendations(name)\n",
    "print(result)"
   ]
  },
  {
   "cell_type": "code",
   "execution_count": null,
   "metadata": {},
   "outputs": [],
   "source": [
    "# so far this only works when the exact name of the product is the input"
   ]
  },
  {
   "cell_type": "code",
   "execution_count": null,
   "metadata": {},
   "outputs": [],
   "source": []
  }
 ],
 "metadata": {
  "kernelspec": {
   "display_name": "Python 3",
   "language": "python",
   "name": "python3"
  },
  "language_info": {
   "codemirror_mode": {
    "name": "ipython",
    "version": 3
   },
   "file_extension": ".py",
   "mimetype": "text/x-python",
   "name": "python",
   "nbconvert_exporter": "python",
   "pygments_lexer": "ipython3",
   "version": "3.8.5"
  }
 },
 "nbformat": 4,
 "nbformat_minor": 4
}
