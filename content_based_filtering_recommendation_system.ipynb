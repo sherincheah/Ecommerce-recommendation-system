{
 "cells": [
  {
   "cell_type": "code",
   "execution_count": 1,
   "metadata": {},
   "outputs": [],
   "source": [
    "#import pandas and numpy\n",
    "import pandas as pd\n",
    "import numpy as np"
   ]
  },
  {
   "cell_type": "code",
   "execution_count": 2,
   "metadata": {
    "scrolled": true
   },
   "outputs": [
    {
     "data": {
      "text/html": [
       "<div>\n",
       "<style scoped>\n",
       "    .dataframe tbody tr th:only-of-type {\n",
       "        vertical-align: middle;\n",
       "    }\n",
       "\n",
       "    .dataframe tbody tr th {\n",
       "        vertical-align: top;\n",
       "    }\n",
       "\n",
       "    .dataframe thead th {\n",
       "        text-align: right;\n",
       "    }\n",
       "</style>\n",
       "<table border=\"1\" class=\"dataframe\">\n",
       "  <thead>\n",
       "    <tr style=\"text-align: right;\">\n",
       "      <th></th>\n",
       "      <th>Uniq Id</th>\n",
       "      <th>Product Name</th>\n",
       "      <th>Brand Name</th>\n",
       "      <th>Asin</th>\n",
       "      <th>Category</th>\n",
       "      <th>Upc Ean Code</th>\n",
       "      <th>List Price</th>\n",
       "      <th>Selling Price</th>\n",
       "      <th>Quantity</th>\n",
       "      <th>Model Number</th>\n",
       "      <th>...</th>\n",
       "      <th>Product Url</th>\n",
       "      <th>Stock</th>\n",
       "      <th>Product Details</th>\n",
       "      <th>Dimensions</th>\n",
       "      <th>Color</th>\n",
       "      <th>Ingredients</th>\n",
       "      <th>Direction To Use</th>\n",
       "      <th>Is Amazon Seller</th>\n",
       "      <th>Size Quantity Variant</th>\n",
       "      <th>Product Description</th>\n",
       "    </tr>\n",
       "  </thead>\n",
       "  <tbody>\n",
       "    <tr>\n",
       "      <th>0</th>\n",
       "      <td>4c69b61db1fc16e7013b43fc926e502d</td>\n",
       "      <td>DB Longboards CoreFlex Crossbow 41\" Bamboo Fib...</td>\n",
       "      <td>NaN</td>\n",
       "      <td>NaN</td>\n",
       "      <td>Sports &amp; Outdoors | Outdoor Recreation | Skate...</td>\n",
       "      <td>NaN</td>\n",
       "      <td>NaN</td>\n",
       "      <td>$237.68</td>\n",
       "      <td>NaN</td>\n",
       "      <td>NaN</td>\n",
       "      <td>...</td>\n",
       "      <td>https://www.amazon.com/DB-Longboards-CoreFlex-...</td>\n",
       "      <td>NaN</td>\n",
       "      <td>NaN</td>\n",
       "      <td>NaN</td>\n",
       "      <td>NaN</td>\n",
       "      <td>NaN</td>\n",
       "      <td>NaN</td>\n",
       "      <td>Y</td>\n",
       "      <td>NaN</td>\n",
       "      <td>NaN</td>\n",
       "    </tr>\n",
       "    <tr>\n",
       "      <th>1</th>\n",
       "      <td>66d49bbed043f5be260fa9f7fbff5957</td>\n",
       "      <td>Electronic Snap Circuits Mini Kits Classpack, ...</td>\n",
       "      <td>NaN</td>\n",
       "      <td>NaN</td>\n",
       "      <td>Toys &amp; Games | Learning &amp; Education | Science ...</td>\n",
       "      <td>NaN</td>\n",
       "      <td>NaN</td>\n",
       "      <td>$99.95</td>\n",
       "      <td>NaN</td>\n",
       "      <td>55324</td>\n",
       "      <td>...</td>\n",
       "      <td>https://www.amazon.com/Electronic-Circuits-Cla...</td>\n",
       "      <td>NaN</td>\n",
       "      <td>NaN</td>\n",
       "      <td>NaN</td>\n",
       "      <td>NaN</td>\n",
       "      <td>NaN</td>\n",
       "      <td>NaN</td>\n",
       "      <td>Y</td>\n",
       "      <td>NaN</td>\n",
       "      <td>NaN</td>\n",
       "    </tr>\n",
       "    <tr>\n",
       "      <th>2</th>\n",
       "      <td>2c55cae269aebf53838484b0d7dd931a</td>\n",
       "      <td>3Doodler Create Flexy 3D Printing Filament Ref...</td>\n",
       "      <td>NaN</td>\n",
       "      <td>NaN</td>\n",
       "      <td>Toys &amp; Games | Arts &amp; Crafts | Craft Kits</td>\n",
       "      <td>NaN</td>\n",
       "      <td>NaN</td>\n",
       "      <td>$34.99</td>\n",
       "      <td>NaN</td>\n",
       "      <td>NaN</td>\n",
       "      <td>...</td>\n",
       "      <td>https://www.amazon.com/3Doodler-Plastic-Innova...</td>\n",
       "      <td>NaN</td>\n",
       "      <td>NaN</td>\n",
       "      <td>NaN</td>\n",
       "      <td>NaN</td>\n",
       "      <td>NaN</td>\n",
       "      <td>NaN</td>\n",
       "      <td>Y</td>\n",
       "      <td>NaN</td>\n",
       "      <td>NaN</td>\n",
       "    </tr>\n",
       "    <tr>\n",
       "      <th>3</th>\n",
       "      <td>18018b6bc416dab347b1b7db79994afa</td>\n",
       "      <td>Guillow Airplane Design Studio with Travel Cas...</td>\n",
       "      <td>NaN</td>\n",
       "      <td>NaN</td>\n",
       "      <td>Toys &amp; Games | Hobbies | Models &amp; Model Kits |...</td>\n",
       "      <td>NaN</td>\n",
       "      <td>NaN</td>\n",
       "      <td>$28.91</td>\n",
       "      <td>NaN</td>\n",
       "      <td>142</td>\n",
       "      <td>...</td>\n",
       "      <td>https://www.amazon.com/Guillow-Airplane-Design...</td>\n",
       "      <td>NaN</td>\n",
       "      <td>NaN</td>\n",
       "      <td>NaN</td>\n",
       "      <td>NaN</td>\n",
       "      <td>NaN</td>\n",
       "      <td>NaN</td>\n",
       "      <td>Y</td>\n",
       "      <td>NaN</td>\n",
       "      <td>NaN</td>\n",
       "    </tr>\n",
       "    <tr>\n",
       "      <th>4</th>\n",
       "      <td>e04b990e95bf73bbe6a3fa09785d7cd0</td>\n",
       "      <td>Woodstock- Collage 500 pc Puzzle</td>\n",
       "      <td>NaN</td>\n",
       "      <td>NaN</td>\n",
       "      <td>Toys &amp; Games | Puzzles | Jigsaw Puzzles</td>\n",
       "      <td>NaN</td>\n",
       "      <td>NaN</td>\n",
       "      <td>$17.49</td>\n",
       "      <td>NaN</td>\n",
       "      <td>62151</td>\n",
       "      <td>...</td>\n",
       "      <td>https://www.amazon.com/Woodstock-Collage-500-p...</td>\n",
       "      <td>NaN</td>\n",
       "      <td>NaN</td>\n",
       "      <td>NaN</td>\n",
       "      <td>NaN</td>\n",
       "      <td>NaN</td>\n",
       "      <td>NaN</td>\n",
       "      <td>Y</td>\n",
       "      <td>NaN</td>\n",
       "      <td>NaN</td>\n",
       "    </tr>\n",
       "  </tbody>\n",
       "</table>\n",
       "<p>5 rows × 28 columns</p>\n",
       "</div>"
      ],
      "text/plain": [
       "                            Uniq Id  \\\n",
       "0  4c69b61db1fc16e7013b43fc926e502d   \n",
       "1  66d49bbed043f5be260fa9f7fbff5957   \n",
       "2  2c55cae269aebf53838484b0d7dd931a   \n",
       "3  18018b6bc416dab347b1b7db79994afa   \n",
       "4  e04b990e95bf73bbe6a3fa09785d7cd0   \n",
       "\n",
       "                                        Product Name  Brand Name  Asin  \\\n",
       "0  DB Longboards CoreFlex Crossbow 41\" Bamboo Fib...         NaN   NaN   \n",
       "1  Electronic Snap Circuits Mini Kits Classpack, ...         NaN   NaN   \n",
       "2  3Doodler Create Flexy 3D Printing Filament Ref...         NaN   NaN   \n",
       "3  Guillow Airplane Design Studio with Travel Cas...         NaN   NaN   \n",
       "4                   Woodstock- Collage 500 pc Puzzle         NaN   NaN   \n",
       "\n",
       "                                            Category Upc Ean Code  List Price  \\\n",
       "0  Sports & Outdoors | Outdoor Recreation | Skate...          NaN         NaN   \n",
       "1  Toys & Games | Learning & Education | Science ...          NaN         NaN   \n",
       "2          Toys & Games | Arts & Crafts | Craft Kits          NaN         NaN   \n",
       "3  Toys & Games | Hobbies | Models & Model Kits |...          NaN         NaN   \n",
       "4            Toys & Games | Puzzles | Jigsaw Puzzles          NaN         NaN   \n",
       "\n",
       "  Selling Price  Quantity Model Number  ...  \\\n",
       "0       $237.68       NaN          NaN  ...   \n",
       "1        $99.95       NaN        55324  ...   \n",
       "2        $34.99       NaN          NaN  ...   \n",
       "3        $28.91       NaN          142  ...   \n",
       "4        $17.49       NaN        62151  ...   \n",
       "\n",
       "                                         Product Url Stock Product Details  \\\n",
       "0  https://www.amazon.com/DB-Longboards-CoreFlex-...   NaN             NaN   \n",
       "1  https://www.amazon.com/Electronic-Circuits-Cla...   NaN             NaN   \n",
       "2  https://www.amazon.com/3Doodler-Plastic-Innova...   NaN             NaN   \n",
       "3  https://www.amazon.com/Guillow-Airplane-Design...   NaN             NaN   \n",
       "4  https://www.amazon.com/Woodstock-Collage-500-p...   NaN             NaN   \n",
       "\n",
       "  Dimensions Color Ingredients Direction To Use  Is Amazon Seller  \\\n",
       "0        NaN   NaN         NaN              NaN                 Y   \n",
       "1        NaN   NaN         NaN              NaN                 Y   \n",
       "2        NaN   NaN         NaN              NaN                 Y   \n",
       "3        NaN   NaN         NaN              NaN                 Y   \n",
       "4        NaN   NaN         NaN              NaN                 Y   \n",
       "\n",
       "  Size Quantity Variant  Product Description  \n",
       "0                   NaN                  NaN  \n",
       "1                   NaN                  NaN  \n",
       "2                   NaN                  NaN  \n",
       "3                   NaN                  NaN  \n",
       "4                   NaN                  NaN  \n",
       "\n",
       "[5 rows x 28 columns]"
      ]
     },
     "execution_count": 2,
     "metadata": {},
     "output_type": "execute_result"
    }
   ],
   "source": [
    "#upload data set to colab from desktop\n",
    "#once uploaded, load data set \n",
    "\n",
    "dataset = pd.read_csv(\"amazon products.csv\")\n",
    "dataset.head(5)"
   ]
  },
  {
   "cell_type": "code",
   "execution_count": 3,
   "metadata": {},
   "outputs": [
    {
     "data": {
      "text/plain": [
       "(10002, 28)"
      ]
     },
     "execution_count": 3,
     "metadata": {},
     "output_type": "execute_result"
    }
   ],
   "source": [
    "#wrangle-rows by columns\n",
    "dataset.shape"
   ]
  },
  {
   "cell_type": "markdown",
   "metadata": {},
   "source": [
    "From this dataset, there are a total of 10002 rows and 28 columns(variables)."
   ]
  },
  {
   "cell_type": "code",
   "execution_count": 4,
   "metadata": {},
   "outputs": [
    {
     "name": "stdout",
     "output_type": "stream",
     "text": [
      "<class 'pandas.core.frame.DataFrame'>\n",
      "RangeIndex: 10002 entries, 0 to 10001\n",
      "Data columns (total 28 columns):\n",
      " #   Column                 Non-Null Count  Dtype  \n",
      "---  ------                 --------------  -----  \n",
      " 0   Uniq Id                10002 non-null  object \n",
      " 1   Product Name           10002 non-null  object \n",
      " 2   Brand Name             0 non-null      float64\n",
      " 3   Asin                   0 non-null      float64\n",
      " 4   Category               9172 non-null   object \n",
      " 5   Upc Ean Code           34 non-null     object \n",
      " 6   List Price             0 non-null      float64\n",
      " 7   Selling Price          9895 non-null   object \n",
      " 8   Quantity               0 non-null      float64\n",
      " 9   Model Number           8232 non-null   object \n",
      " 10  About Product          9729 non-null   object \n",
      " 11  Product Specification  8370 non-null   object \n",
      " 12  Technical Details      9212 non-null   object \n",
      " 13  Shipping Weight        8864 non-null   object \n",
      " 14  Product Dimensions     479 non-null    object \n",
      " 15  Image                  10002 non-null  object \n",
      " 16  Variants               2478 non-null   object \n",
      " 17  Sku                    0 non-null      float64\n",
      " 18  Product Url            10002 non-null  object \n",
      " 19  Stock                  0 non-null      float64\n",
      " 20  Product Details        0 non-null      float64\n",
      " 21  Dimensions             0 non-null      float64\n",
      " 22  Color                  0 non-null      float64\n",
      " 23  Ingredients            0 non-null      float64\n",
      " 24  Direction To Use       0 non-null      float64\n",
      " 25  Is Amazon Seller       10002 non-null  object \n",
      " 26  Size Quantity Variant  0 non-null      float64\n",
      " 27  Product Description    0 non-null      float64\n",
      "dtypes: float64(13), object(15)\n",
      "memory usage: 2.1+ MB\n"
     ]
    }
   ],
   "source": [
    "#Check variable characteristics\n",
    "dataset.info()"
   ]
  },
  {
   "cell_type": "code",
   "execution_count": 5,
   "metadata": {
    "scrolled": true
   },
   "outputs": [
    {
     "data": {
      "text/plain": [
       "0        False\n",
       "1        False\n",
       "2        False\n",
       "3        False\n",
       "4        False\n",
       "         ...  \n",
       "9997     False\n",
       "9998     False\n",
       "9999     False\n",
       "10000    False\n",
       "10001    False\n",
       "Length: 10002, dtype: bool"
      ]
     },
     "execution_count": 5,
     "metadata": {},
     "output_type": "execute_result"
    }
   ],
   "source": [
    "# Check for duplicates\n",
    "dataset.duplicated()"
   ]
  },
  {
   "cell_type": "markdown",
   "metadata": {},
   "source": [
    "All 10002 rows are unique. "
   ]
  },
  {
   "cell_type": "code",
   "execution_count": 6,
   "metadata": {},
   "outputs": [],
   "source": [
    "#Dropping redundant columns\n",
    "cols = [0,2,3,5,6,8,9,12,14,15,16,17,18,19,20,21,22,23,24,25,26,27]\n",
    "dataset.drop(dataset.columns[cols], axis =1, inplace=True)"
   ]
  },
  {
   "cell_type": "markdown",
   "metadata": {},
   "source": [
    "Columns 2,3,6,8,17,19-24,26,27 only contains null values (not useful).\n",
    "Columns 1,5,9,12,14-16,18,25 are not helpful with achieving our objectives. "
   ]
  },
  {
   "cell_type": "code",
   "execution_count": 7,
   "metadata": {
    "scrolled": true
   },
   "outputs": [
    {
     "name": "stdout",
     "output_type": "stream",
     "text": [
      "<class 'pandas.core.frame.DataFrame'>\n",
      "Int64Index: 7216 entries, 0 to 10001\n",
      "Data columns (total 6 columns):\n",
      " #   Column                 Non-Null Count  Dtype \n",
      "---  ------                 --------------  ----- \n",
      " 0   Product Name           7216 non-null   object\n",
      " 1   Category               7216 non-null   object\n",
      " 2   Selling Price          7216 non-null   object\n",
      " 3   About Product          7216 non-null   object\n",
      " 4   Product Specification  7216 non-null   object\n",
      " 5   Shipping Weight        7216 non-null   object\n",
      "dtypes: object(6)\n",
      "memory usage: 394.6+ KB\n"
     ]
    }
   ],
   "source": [
    "# dropping null values to avoid errors \n",
    "dataset.dropna(inplace = True)\n",
    "dataset.info()"
   ]
  },
  {
   "cell_type": "code",
   "execution_count": 8,
   "metadata": {},
   "outputs": [],
   "source": [
    "# new data frame with split value columns. We use n = 3 to get a maximum of 3+1 columns\n",
    "new = dataset[\"Category\"].str.split(\"|\", n = 3, expand = True)\n",
    "  \n",
    "# making the first category called Main Category\n",
    "dataset[\"Main Category\"]= new[0] \n",
    "  \n",
    "# making the second category called sub_category \n",
    "dataset[\"Sub-Category\"]= new[1]\n",
    "\n",
    "# making the third category called side_category \n",
    "dataset[\"Side Category\"]= new[2]\n",
    "\n",
    "# making the last column consist of the remaining categories\n",
    "dataset[\"Other Categories\"]= new[3]\n",
    "\n",
    "# Dropping old category columns and the remaining categories \n",
    "dataset.drop(columns =[\"Category\", \"Other Categories\"], inplace = True)"
   ]
  },
  {
   "cell_type": "code",
   "execution_count": 9,
   "metadata": {
    "scrolled": true
   },
   "outputs": [
    {
     "data": {
      "text/html": [
       "<div>\n",
       "<style scoped>\n",
       "    .dataframe tbody tr th:only-of-type {\n",
       "        vertical-align: middle;\n",
       "    }\n",
       "\n",
       "    .dataframe tbody tr th {\n",
       "        vertical-align: top;\n",
       "    }\n",
       "\n",
       "    .dataframe thead th {\n",
       "        text-align: right;\n",
       "    }\n",
       "</style>\n",
       "<table border=\"1\" class=\"dataframe\">\n",
       "  <thead>\n",
       "    <tr style=\"text-align: right;\">\n",
       "      <th></th>\n",
       "      <th>Product Name</th>\n",
       "      <th>Selling Price</th>\n",
       "      <th>About Product</th>\n",
       "      <th>Product Specification</th>\n",
       "      <th>Shipping Weight</th>\n",
       "      <th>Main Category</th>\n",
       "      <th>Sub-Category</th>\n",
       "      <th>Side Category</th>\n",
       "    </tr>\n",
       "  </thead>\n",
       "  <tbody>\n",
       "    <tr>\n",
       "      <th>0</th>\n",
       "      <td>DB Longboards CoreFlex Crossbow 41\" Bamboo Fib...</td>\n",
       "      <td>$237.68</td>\n",
       "      <td>Make sure this fits by entering your model num...</td>\n",
       "      <td>Shipping Weight: 10.7 pounds (View shipping ra...</td>\n",
       "      <td>10.7 pounds</td>\n",
       "      <td>Sports &amp; Outdoors</td>\n",
       "      <td>Outdoor Recreation</td>\n",
       "      <td>Skates, Skateboards &amp; Scooters</td>\n",
       "    </tr>\n",
       "    <tr>\n",
       "      <th>1</th>\n",
       "      <td>Electronic Snap Circuits Mini Kits Classpack, ...</td>\n",
       "      <td>$99.95</td>\n",
       "      <td>Make sure this fits by entering your model num...</td>\n",
       "      <td>Product Dimensions:         14.7 x 11.1 x 10.2...</td>\n",
       "      <td>4 pounds</td>\n",
       "      <td>Toys &amp; Games</td>\n",
       "      <td>Learning &amp; Education</td>\n",
       "      <td>Science Kits &amp; Toys</td>\n",
       "    </tr>\n",
       "    <tr>\n",
       "      <th>2</th>\n",
       "      <td>3Doodler Create Flexy 3D Printing Filament Ref...</td>\n",
       "      <td>$34.99</td>\n",
       "      <td>Make sure this fits by entering your model num...</td>\n",
       "      <td>ProductDimensions:10.3x3.4x0.8inches|ItemWeigh...</td>\n",
       "      <td>12.8 ounces</td>\n",
       "      <td>Toys &amp; Games</td>\n",
       "      <td>Arts &amp; Crafts</td>\n",
       "      <td>Craft Kits</td>\n",
       "    </tr>\n",
       "    <tr>\n",
       "      <th>3</th>\n",
       "      <td>Guillow Airplane Design Studio with Travel Cas...</td>\n",
       "      <td>$28.91</td>\n",
       "      <td>Make 8 different Planes at one time. | Experim...</td>\n",
       "      <td>ProductDimensions:3.5x6.2x13inches|ItemWeight:...</td>\n",
       "      <td>13.4 ounces</td>\n",
       "      <td>Toys &amp; Games</td>\n",
       "      <td>Hobbies</td>\n",
       "      <td>Models &amp; Model Kits</td>\n",
       "    </tr>\n",
       "    <tr>\n",
       "      <th>4</th>\n",
       "      <td>Woodstock- Collage 500 pc Puzzle</td>\n",
       "      <td>$17.49</td>\n",
       "      <td>Make sure this fits by entering your model num...</td>\n",
       "      <td>ProductDimensions:1.9x8x10inches|ItemWeight:13...</td>\n",
       "      <td>13.4 ounces</td>\n",
       "      <td>Toys &amp; Games</td>\n",
       "      <td>Puzzles</td>\n",
       "      <td>Jigsaw Puzzles</td>\n",
       "    </tr>\n",
       "  </tbody>\n",
       "</table>\n",
       "</div>"
      ],
      "text/plain": [
       "                                        Product Name Selling Price  \\\n",
       "0  DB Longboards CoreFlex Crossbow 41\" Bamboo Fib...       $237.68   \n",
       "1  Electronic Snap Circuits Mini Kits Classpack, ...        $99.95   \n",
       "2  3Doodler Create Flexy 3D Printing Filament Ref...        $34.99   \n",
       "3  Guillow Airplane Design Studio with Travel Cas...        $28.91   \n",
       "4                   Woodstock- Collage 500 pc Puzzle        $17.49   \n",
       "\n",
       "                                       About Product  \\\n",
       "0  Make sure this fits by entering your model num...   \n",
       "1  Make sure this fits by entering your model num...   \n",
       "2  Make sure this fits by entering your model num...   \n",
       "3  Make 8 different Planes at one time. | Experim...   \n",
       "4  Make sure this fits by entering your model num...   \n",
       "\n",
       "                               Product Specification Shipping Weight  \\\n",
       "0  Shipping Weight: 10.7 pounds (View shipping ra...     10.7 pounds   \n",
       "1  Product Dimensions:         14.7 x 11.1 x 10.2...        4 pounds   \n",
       "2  ProductDimensions:10.3x3.4x0.8inches|ItemWeigh...     12.8 ounces   \n",
       "3  ProductDimensions:3.5x6.2x13inches|ItemWeight:...     13.4 ounces   \n",
       "4  ProductDimensions:1.9x8x10inches|ItemWeight:13...     13.4 ounces   \n",
       "\n",
       "        Main Category            Sub-Category  \\\n",
       "0  Sports & Outdoors      Outdoor Recreation    \n",
       "1       Toys & Games    Learning & Education    \n",
       "2       Toys & Games           Arts & Crafts    \n",
       "3       Toys & Games                 Hobbies    \n",
       "4       Toys & Games                 Puzzles    \n",
       "\n",
       "                      Side Category  \n",
       "0   Skates, Skateboards & Scooters   \n",
       "1               Science Kits & Toys  \n",
       "2                        Craft Kits  \n",
       "3              Models & Model Kits   \n",
       "4                    Jigsaw Puzzles  "
      ]
     },
     "execution_count": 9,
     "metadata": {},
     "output_type": "execute_result"
    }
   ],
   "source": [
    "# Revised dataset to conduct EDA\n",
    "dataset.head()"
   ]
  },
  {
   "cell_type": "code",
   "execution_count": 10,
   "metadata": {
    "scrolled": true
   },
   "outputs": [
    {
     "data": {
      "text/html": [
       "<div>\n",
       "<style scoped>\n",
       "    .dataframe tbody tr th:only-of-type {\n",
       "        vertical-align: middle;\n",
       "    }\n",
       "\n",
       "    .dataframe tbody tr th {\n",
       "        vertical-align: top;\n",
       "    }\n",
       "\n",
       "    .dataframe thead th {\n",
       "        text-align: right;\n",
       "    }\n",
       "</style>\n",
       "<table border=\"1\" class=\"dataframe\">\n",
       "  <thead>\n",
       "    <tr style=\"text-align: right;\">\n",
       "      <th></th>\n",
       "      <th>Product Name</th>\n",
       "      <th>Selling Price($)</th>\n",
       "      <th>About Product</th>\n",
       "      <th>Product Specification</th>\n",
       "      <th>Shipping Weight(Pounds)</th>\n",
       "      <th>Main Category</th>\n",
       "      <th>Sub-Category</th>\n",
       "      <th>Side Category</th>\n",
       "    </tr>\n",
       "  </thead>\n",
       "  <tbody>\n",
       "    <tr>\n",
       "      <th>0</th>\n",
       "      <td>DB Longboards CoreFlex Crossbow 41\" Bamboo Fib...</td>\n",
       "      <td>237.68</td>\n",
       "      <td>Make sure this fits by entering your model num...</td>\n",
       "      <td>Shipping Weight: 10.7 pounds (View shipping ra...</td>\n",
       "      <td>10.7</td>\n",
       "      <td>Sports &amp; Outdoors</td>\n",
       "      <td>Outdoor Recreation</td>\n",
       "      <td>Skates, Skateboards &amp; Scooters</td>\n",
       "    </tr>\n",
       "    <tr>\n",
       "      <th>1</th>\n",
       "      <td>Electronic Snap Circuits Mini Kits Classpack, ...</td>\n",
       "      <td>99.95</td>\n",
       "      <td>Make sure this fits by entering your model num...</td>\n",
       "      <td>Product Dimensions:         14.7 x 11.1 x 10.2...</td>\n",
       "      <td>4.0</td>\n",
       "      <td>Toys &amp; Games</td>\n",
       "      <td>Learning &amp; Education</td>\n",
       "      <td>Science Kits &amp; Toys</td>\n",
       "    </tr>\n",
       "    <tr>\n",
       "      <th>2</th>\n",
       "      <td>3Doodler Create Flexy 3D Printing Filament Ref...</td>\n",
       "      <td>34.99</td>\n",
       "      <td>Make sure this fits by entering your model num...</td>\n",
       "      <td>ProductDimensions:10.3x3.4x0.8inches|ItemWeigh...</td>\n",
       "      <td>12.8</td>\n",
       "      <td>Toys &amp; Games</td>\n",
       "      <td>Arts &amp; Crafts</td>\n",
       "      <td>Craft Kits</td>\n",
       "    </tr>\n",
       "    <tr>\n",
       "      <th>3</th>\n",
       "      <td>Guillow Airplane Design Studio with Travel Cas...</td>\n",
       "      <td>28.91</td>\n",
       "      <td>Make 8 different Planes at one time. | Experim...</td>\n",
       "      <td>ProductDimensions:3.5x6.2x13inches|ItemWeight:...</td>\n",
       "      <td>13.4</td>\n",
       "      <td>Toys &amp; Games</td>\n",
       "      <td>Hobbies</td>\n",
       "      <td>Models &amp; Model Kits</td>\n",
       "    </tr>\n",
       "    <tr>\n",
       "      <th>4</th>\n",
       "      <td>Woodstock- Collage 500 pc Puzzle</td>\n",
       "      <td>17.49</td>\n",
       "      <td>Make sure this fits by entering your model num...</td>\n",
       "      <td>ProductDimensions:1.9x8x10inches|ItemWeight:13...</td>\n",
       "      <td>13.4</td>\n",
       "      <td>Toys &amp; Games</td>\n",
       "      <td>Puzzles</td>\n",
       "      <td>Jigsaw Puzzles</td>\n",
       "    </tr>\n",
       "  </tbody>\n",
       "</table>\n",
       "</div>"
      ],
      "text/plain": [
       "                                        Product Name  Selling Price($)  \\\n",
       "0  DB Longboards CoreFlex Crossbow 41\" Bamboo Fib...            237.68   \n",
       "1  Electronic Snap Circuits Mini Kits Classpack, ...             99.95   \n",
       "2  3Doodler Create Flexy 3D Printing Filament Ref...             34.99   \n",
       "3  Guillow Airplane Design Studio with Travel Cas...             28.91   \n",
       "4                   Woodstock- Collage 500 pc Puzzle             17.49   \n",
       "\n",
       "                                       About Product  \\\n",
       "0  Make sure this fits by entering your model num...   \n",
       "1  Make sure this fits by entering your model num...   \n",
       "2  Make sure this fits by entering your model num...   \n",
       "3  Make 8 different Planes at one time. | Experim...   \n",
       "4  Make sure this fits by entering your model num...   \n",
       "\n",
       "                               Product Specification  Shipping Weight(Pounds)  \\\n",
       "0  Shipping Weight: 10.7 pounds (View shipping ra...                     10.7   \n",
       "1  Product Dimensions:         14.7 x 11.1 x 10.2...                      4.0   \n",
       "2  ProductDimensions:10.3x3.4x0.8inches|ItemWeigh...                     12.8   \n",
       "3  ProductDimensions:3.5x6.2x13inches|ItemWeight:...                     13.4   \n",
       "4  ProductDimensions:1.9x8x10inches|ItemWeight:13...                     13.4   \n",
       "\n",
       "        Main Category            Sub-Category  \\\n",
       "0  Sports & Outdoors      Outdoor Recreation    \n",
       "1       Toys & Games    Learning & Education    \n",
       "2       Toys & Games           Arts & Crafts    \n",
       "3       Toys & Games                 Hobbies    \n",
       "4       Toys & Games                 Puzzles    \n",
       "\n",
       "                      Side Category  \n",
       "0   Skates, Skateboards & Scooters   \n",
       "1               Science Kits & Toys  \n",
       "2                        Craft Kits  \n",
       "3              Models & Model Kits   \n",
       "4                    Jigsaw Puzzles  "
      ]
     },
     "execution_count": 10,
     "metadata": {},
     "output_type": "execute_result"
    }
   ],
   "source": [
    "dataset.rename(columns = {'Uniq Id':'Id','Shipping Weight':'Shipping Weight(Pounds)', 'Selling Price':'Selling Price($)'}, inplace = True)\n",
    "\n",
    "dataset['Shipping Weight(Pounds)'] = dataset['Shipping Weight(Pounds)'].str.strip('ounces')\n",
    "dataset['Shipping Weight(Pounds)'] = dataset['Shipping Weight(Pounds)'].str.strip('pounds').astype(float)\n",
    "dataset['Selling Price($)'] = dataset['Selling Price($)'].str.replace('$', '').astype(float)\n",
    "\n",
    "dataset.head()"
   ]
  },
  {
   "cell_type": "code",
   "execution_count": 11,
   "metadata": {
    "scrolled": true
   },
   "outputs": [
    {
     "name": "stdout",
     "output_type": "stream",
     "text": [
      "<class 'pandas.core.frame.DataFrame'>\n",
      "Int64Index: 7216 entries, 0 to 10001\n",
      "Data columns (total 8 columns):\n",
      " #   Column                   Non-Null Count  Dtype  \n",
      "---  ------                   --------------  -----  \n",
      " 0   Product Name             7216 non-null   object \n",
      " 1   Selling Price($)         7216 non-null   float64\n",
      " 2   About Product            7216 non-null   object \n",
      " 3   Product Specification    7216 non-null   object \n",
      " 4   Shipping Weight(Pounds)  7216 non-null   float64\n",
      " 5   Main Category            7216 non-null   object \n",
      " 6   Sub-Category             7216 non-null   object \n",
      " 7   Side Category            6231 non-null   object \n",
      "dtypes: float64(2), object(6)\n",
      "memory usage: 507.4+ KB\n"
     ]
    }
   ],
   "source": [
    "dataset.info()"
   ]
  },
  {
   "cell_type": "markdown",
   "metadata": {},
   "source": [
    "Selling Price($) & Shipping Weight(Pounds) have been converted to Float from Object"
   ]
  },
  {
   "cell_type": "code",
   "execution_count": 12,
   "metadata": {},
   "outputs": [],
   "source": [
    "# Start of EDA\n",
    "import seaborn as sns\n",
    "import matplotlib.pyplot as plt"
   ]
  },
  {
   "cell_type": "code",
   "execution_count": 13,
   "metadata": {},
   "outputs": [
    {
     "data": {
      "text/plain": [
       "array(['Sports & Outdoors ', 'Toys & Games ',\n",
       "       'Clothing, Shoes & Jewelry ', 'Home & Kitchen ', 'Pet Supplies ',\n",
       "       'Arts, Crafts & Sewing ', 'Electronics ', 'Patio, Lawn & Garden ',\n",
       "       'Tools & Home Improvement ', 'Office Products ', 'Baby Products ',\n",
       "       'Grocery & Gourmet Food ', 'Video Games ',\n",
       "       'Remote & App Controlled Vehicle Parts ', 'Health & Household ',\n",
       "       'Industrial & Scientific ', 'Beauty & Personal Care ',\n",
       "       'Automotive ', 'Remote & App Controlled Vehicles & Parts ',\n",
       "       'Musical Instruments ', 'Hobbies ', 'Movies & TV ',\n",
       "       'Cell Phones & Accessories '], dtype=object)"
      ]
     },
     "execution_count": 13,
     "metadata": {},
     "output_type": "execute_result"
    }
   ],
   "source": [
    "# finding out the unique main categories\n",
    "dataset[\"Main Category\"].unique()"
   ]
  },
  {
   "cell_type": "code",
   "execution_count": 14,
   "metadata": {
    "scrolled": true
   },
   "outputs": [
    {
     "data": {
      "text/plain": [
       "Text(0, 0.5, 'Count of products')"
      ]
     },
     "execution_count": 14,
     "metadata": {},
     "output_type": "execute_result"
    },
    {
     "data": {
      "image/png": "[encoded data removed]",
      "text/plain": [
       "<Figure size 432x288 with 1 Axes>"
      ]
     },
     "metadata": {
      "needs_background": "light"
     },
     "output_type": "display_data"
    }
   ],
   "source": [
    "#data visualisation\n",
    "\n",
    "#lets look at patterns in terms of Product Category popularity\n",
    "#generate count for \"Main Category\"\n",
    "\n",
    "#Top 10 barplot of categories\n",
    "order = dataset['Main Category'].value_counts()[:10].index\n",
    "sns.countplot(y='Main Category', data=dataset, order=order)\n",
    "plt.title(\"Product count by category\")\n",
    "plt.xlabel(\"Main category\")\n",
    "plt.ylabel(\"Count of products\")"
   ]
  },
  {
   "cell_type": "markdown",
   "metadata": {},
   "source": [
    "The top 5 Category: \n",
    "1.Toys & Games\n",
    "2.Home & Kitchen\n",
    "3.Sports & Outdoors\n",
    "4.Clothing, Shoes & Jewelry\n",
    "5.Arts, Crafts & Sewing"
   ]
  },
  {
   "cell_type": "code",
   "execution_count": 15,
   "metadata": {
    "scrolled": true
   },
   "outputs": [
    {
     "data": {
      "text/plain": [
       "Text(0.5, 1.0, 'Distribution of the Prices in Toys & Games Category')"
      ]
     },
     "execution_count": 15,
     "metadata": {},
     "output_type": "execute_result"
    },
    {
     "data": {
      "image/png": "[encoded data removed]",
      "text/plain": [
       "<Figure size 432x288 with 1 Axes>"
      ]
     },
     "metadata": {
      "needs_background": "light"
     },
     "output_type": "display_data"
    }
   ],
   "source": [
    "#generate boxplot to understand the distribution  \n",
    "toys = dataset[dataset[\"Main Category\"] == 'Toys & Games ']\n",
    "sns.boxplot(data = toys, x='Main Category', y='Selling Price($)', showfliers=False)\n",
    "plt.title(\"Distribution of the Prices in Toys & Games Category\")"
   ]
  },
  {
   "cell_type": "code",
   "execution_count": 16,
   "metadata": {
    "scrolled": false
   },
   "outputs": [
    {
     "data": {
      "text/plain": [
       "Text(0.5, 1.0, 'Relationship between Price & Shipping Weight in Toys & Games category')"
      ]
     },
     "execution_count": 16,
     "metadata": {},
     "output_type": "execute_result"
    },
    {
     "data": {
      "image/png": "[encoded data removed]",
      "text/plain": [
       "<Figure size 432x288 with 1 Axes>"
      ]
     },
     "metadata": {
      "needs_background": "light"
     },
     "output_type": "display_data"
    }
   ],
   "source": [
    "#generate scatterplot to understand the relationship \n",
    "sns.scatterplot(data=toys, x=\"Selling Price($)\", y=\"Shipping Weight(Pounds)\")\n",
    "plt.title(\"Relationship between Price & Shipping Weight in Toys & Games category\")"
   ]
  },
  {
   "cell_type": "markdown",
   "metadata": {},
   "source": [
    "We cant really draw a conclusion from the lower shipping weight. but for heavier items some of them seems to be positively related to the selling pricer."
   ]
  },
  {
   "cell_type": "code",
   "execution_count": 17,
   "metadata": {
    "scrolled": true
   },
   "outputs": [
    {
     "data": {
      "text/plain": [
       "Text(0.5, 1.0, 'Distribution of the Prices in Home & Kitchen Category')"
      ]
     },
     "execution_count": 17,
     "metadata": {},
     "output_type": "execute_result"
    },
    {
     "data": {
      "image/png": "[encoded data removed]",
      "text/plain": [
       "<Figure size 432x288 with 1 Axes>"
      ]
     },
     "metadata": {
      "needs_background": "light"
     },
     "output_type": "display_data"
    }
   ],
   "source": [
    "#generate boxplot to understand the distribution  \n",
    "home = dataset[dataset[\"Main Category\"] == 'Home & Kitchen ']\n",
    "sns.boxplot(data = home, x='Main Category', y='Selling Price($)', showfliers=False)\n",
    "plt.title(\"Distribution of the Prices in Home & Kitchen Category\")"
   ]
  },
  {
   "cell_type": "code",
   "execution_count": 18,
   "metadata": {},
   "outputs": [
    {
     "data": {
      "text/plain": [
       "Text(0.5, 1.0, 'Relationship between Price & Shipping Weight in Home & Kitchen Category')"
      ]
     },
     "execution_count": 18,
     "metadata": {},
     "output_type": "execute_result"
    },
    {
     "data": {
      "image/png": "[encoded data removed]",
      "text/plain": [
       "<Figure size 432x288 with 1 Axes>"
      ]
     },
     "metadata": {
      "needs_background": "light"
     },
     "output_type": "display_data"
    }
   ],
   "source": [
    "#generate scatterplot to understand the relationship\n",
    "sns.scatterplot(data=home, x=\"Selling Price($)\", y=\"Shipping Weight(Pounds)\")\n",
    "plt.title(\"Relationship between Price & Shipping Weight in Home & Kitchen Category\")"
   ]
  },
  {
   "cell_type": "code",
   "execution_count": 19,
   "metadata": {
    "scrolled": true
   },
   "outputs": [
    {
     "data": {
      "text/plain": [
       "Text(0.5, 1.0, 'Distribution of the Prices in Sports & Outdoors Category')"
      ]
     },
     "execution_count": 19,
     "metadata": {},
     "output_type": "execute_result"
    },
    {
     "data": {
      "image/png": "[encoded data removed]",
      "text/plain": [
       "<Figure size 432x288 with 1 Axes>"
      ]
     },
     "metadata": {
      "needs_background": "light"
     },
     "output_type": "display_data"
    }
   ],
   "source": [
    "#generate boxplot to understand the distribution  \n",
    "sports = dataset[dataset[\"Main Category\"] == 'Sports & Outdoors ']\n",
    "sns.boxplot(data = sports, x='Main Category', y='Selling Price($)', showfliers=False)\n",
    "plt.title(\"Distribution of the Prices in Sports & Outdoors Category\")"
   ]
  },
  {
   "cell_type": "code",
   "execution_count": 20,
   "metadata": {},
   "outputs": [
    {
     "data": {
      "text/plain": [
       "Text(0.5, 1.0, 'Relationship between Price & Shipping Weight in Sports & Outdoors Category')"
      ]
     },
     "execution_count": 20,
     "metadata": {},
     "output_type": "execute_result"
    },
    {
     "data": {
      "image/png": "[encoded data removed]",
      "text/plain": [
       "<Figure size 432x288 with 1 Axes>"
      ]
     },
     "metadata": {
      "needs_background": "light"
     },
     "output_type": "display_data"
    }
   ],
   "source": [
    "#generate scatterplot to understand the relationship\n",
    "sns.scatterplot(data=sports, x=\"Selling Price($)\", y=\"Shipping Weight(Pounds)\")\n",
    "plt.title(\"Relationship between Price & Shipping Weight in Sports & Outdoors Category\")"
   ]
  },
  {
   "cell_type": "code",
   "execution_count": 21,
   "metadata": {},
   "outputs": [
    {
     "data": {
      "text/plain": [
       "Text(0.5, 1.0, 'Distribution of the Prices in Clothing, Shoes & Jewelry Category')"
      ]
     },
     "execution_count": 21,
     "metadata": {},
     "output_type": "execute_result"
    },
    {
     "data": {
      "image/png": "[encoded data removed]",
      "text/plain": [
       "<Figure size 432x288 with 1 Axes>"
      ]
     },
     "metadata": {
      "needs_background": "light"
     },
     "output_type": "display_data"
    }
   ],
   "source": [
    "#generate boxplot to understand the distribution  \n",
    "csj = dataset[dataset[\"Main Category\"] == 'Clothing, Shoes & Jewelry ']\n",
    "sns.boxplot(data = csj, x='Main Category', y='Selling Price($)', showfliers=False)\n",
    "plt.title(\"Distribution of the Prices in Clothing, Shoes & Jewelry Category\")"
   ]
  },
  {
   "cell_type": "code",
   "execution_count": 22,
   "metadata": {},
   "outputs": [
    {
     "data": {
      "text/plain": [
       "Text(0.5, 1.0, 'Relationship between Price & Shipping Weight in Clothing, Shoes & Jewelry Category')"
      ]
     },
     "execution_count": 22,
     "metadata": {},
     "output_type": "execute_result"
    },
    {
     "data": {
      "image/png": "[encoded data removed]",
      "text/plain": [
       "<Figure size 432x288 with 1 Axes>"
      ]
     },
     "metadata": {
      "needs_background": "light"
     },
     "output_type": "display_data"
    }
   ],
   "source": [
    "#generate scatterplot to understand the relationship\n",
    "sns.scatterplot(data=csj, x=\"Selling Price($)\", y=\"Shipping Weight(Pounds)\")\n",
    "plt.title(\"Relationship between Price & Shipping Weight in Clothing, Shoes & Jewelry Category\")"
   ]
  },
  {
   "cell_type": "code",
   "execution_count": 23,
   "metadata": {},
   "outputs": [
    {
     "data": {
      "text/plain": [
       "Text(0.5, 1.0, 'Distribution of the Prices in Arts, Crafts & Sewing Category')"
      ]
     },
     "execution_count": 23,
     "metadata": {},
     "output_type": "execute_result"
    },
    {
     "data": {
      "image/png": "[encoded data removed]",
      "text/plain": [
       "<Figure size 432x288 with 1 Axes>"
      ]
     },
     "metadata": {
      "needs_background": "light"
     },
     "output_type": "display_data"
    }
   ],
   "source": [
    "#generate boxplot to understand the distribution  \n",
    "artscraft = dataset[dataset[\"Main Category\"] == 'Arts, Crafts & Sewing ']\n",
    "sns.boxplot(data = artscraft, x='Main Category', y='Selling Price($)', showfliers=False)\n",
    "plt.title(\"Distribution of the Prices in Arts, Crafts & Sewing Category\")"
   ]
  },
  {
   "cell_type": "code",
   "execution_count": 24,
   "metadata": {},
   "outputs": [
    {
     "data": {
      "text/plain": [
       "Text(0.5, 1.0, 'Relationship between Price & Shipping Weight in Arts, Crafts & Sewing Category')"
      ]
     },
     "execution_count": 24,
     "metadata": {},
     "output_type": "execute_result"
    },
    {
     "data": {
      "image/png": "[encoded data removed]",
      "text/plain": [
       "<Figure size 432x288 with 1 Axes>"
      ]
     },
     "metadata": {
      "needs_background": "light"
     },
     "output_type": "display_data"
    }
   ],
   "source": [
    "#generate scatterplot to understand the relationship\n",
    "sns.scatterplot(data=artscraft, x=\"Selling Price($)\", y=\"Shipping Weight(Pounds)\")\n",
    "plt.title(\"Relationship between Price & Shipping Weight in Arts, Crafts & Sewing Category\")"
   ]
  },
  {
   "cell_type": "markdown",
   "metadata": {},
   "source": [
    "Conclusion: From this EDA, we can draw that there is little relation between the shipping weight and the selling price of the product. Therefore, we decided that a more suitable way of recommending products would be by their types which is in this case is through their Categories....."
   ]
  },
  {
   "cell_type": "markdown",
   "metadata": {},
   "source": [
    "Denzel's Portion: \n",
    "Recommendation System - Content-Based Filtering"
   ]
  },
  {
   "cell_type": "markdown",
   "metadata": {},
   "source": [
    "# Word Processing"
   ]
  },
  {
   "cell_type": "code",
   "execution_count": 25,
   "metadata": {},
   "outputs": [],
   "source": [
    "dataset = pd.read_csv(\"amazon products.csv\")"
   ]
  },
  {
   "cell_type": "code",
   "execution_count": 26,
   "metadata": {},
   "outputs": [
    {
     "name": "stdout",
     "output_type": "stream",
     "text": [
      "<class 'pandas.core.frame.DataFrame'>\n",
      "RangeIndex: 10002 entries, 0 to 10001\n",
      "Data columns (total 28 columns):\n",
      " #   Column                 Non-Null Count  Dtype  \n",
      "---  ------                 --------------  -----  \n",
      " 0   Uniq Id                10002 non-null  object \n",
      " 1   Product Name           10002 non-null  object \n",
      " 2   Brand Name             0 non-null      float64\n",
      " 3   Asin                   0 non-null      float64\n",
      " 4   Category               9172 non-null   object \n",
      " 5   Upc Ean Code           34 non-null     object \n",
      " 6   List Price             0 non-null      float64\n",
      " 7   Selling Price          9895 non-null   object \n",
      " 8   Quantity               0 non-null      float64\n",
      " 9   Model Number           8232 non-null   object \n",
      " 10  About Product          9729 non-null   object \n",
      " 11  Product Specification  8370 non-null   object \n",
      " 12  Technical Details      9212 non-null   object \n",
      " 13  Shipping Weight        8864 non-null   object \n",
      " 14  Product Dimensions     479 non-null    object \n",
      " 15  Image                  10002 non-null  object \n",
      " 16  Variants               2478 non-null   object \n",
      " 17  Sku                    0 non-null      float64\n",
      " 18  Product Url            10002 non-null  object \n",
      " 19  Stock                  0 non-null      float64\n",
      " 20  Product Details        0 non-null      float64\n",
      " 21  Dimensions             0 non-null      float64\n",
      " 22  Color                  0 non-null      float64\n",
      " 23  Ingredients            0 non-null      float64\n",
      " 24  Direction To Use       0 non-null      float64\n",
      " 25  Is Amazon Seller       10002 non-null  object \n",
      " 26  Size Quantity Variant  0 non-null      float64\n",
      " 27  Product Description    0 non-null      float64\n",
      "dtypes: float64(13), object(15)\n",
      "memory usage: 2.1+ MB\n"
     ]
    }
   ],
   "source": [
    "dataset.info()"
   ]
  },
  {
   "cell_type": "markdown",
   "metadata": {},
   "source": [
    "We can compute the similarity between categories using TfidfVectorizer"
   ]
  },
  {
   "cell_type": "code",
   "execution_count": 27,
   "metadata": {},
   "outputs": [
    {
     "data": {
      "text/plain": [
       "(10002, 1133)"
      ]
     },
     "execution_count": 27,
     "metadata": {},
     "output_type": "execute_result"
    }
   ],
   "source": [
    "#Import TfIdfVectorizer from scikit-learn\n",
    "from sklearn.feature_extraction.text import TfidfVectorizer\n",
    "\n",
    "#Define a TF-IDF Vectorizer Object. Remove all english stop words such as 'the', 'a'\n",
    "tfidf = TfidfVectorizer(stop_words='english')\n",
    "\n",
    "#Replace NaN with an empty string\n",
    "dataset[\"Category\"] = dataset[\"Category\"].fillna(\"\")\n",
    "\n",
    "#Construct the required TF-IDF matrix by fitting and transforming the data\n",
    "tfidf_matrix = tfidf.fit_transform(dataset[\"Category\"])\n",
    "\n",
    "#Output the shape of tfidf_matrix\n",
    "tfidf_matrix.shape"
   ]
  },
  {
   "cell_type": "markdown",
   "metadata": {},
   "source": [
    "We can observe that there are 1133 vocabularies in our dataset of 10002 products."
   ]
  },
  {
   "cell_type": "code",
   "execution_count": 28,
   "metadata": {},
   "outputs": [
    {
     "data": {
      "text/plain": [
       "['accent',\n",
       " 'accents',\n",
       " 'accessories',\n",
       " 'accessory',\n",
       " 'action',\n",
       " 'activities',\n",
       " 'activity',\n",
       " 'additives',\n",
       " 'adhesives',\n",
       " 'adirondack',\n",
       " 'adult',\n",
       " 'advent',\n",
       " 'agility',\n",
       " 'aids',\n",
       " 'air',\n",
       " 'airbrush',\n",
       " 'aircraft',\n",
       " 'airplane',\n",
       " 'airplanes',\n",
       " 'albums']"
      ]
     },
     "execution_count": 28,
     "metadata": {},
     "output_type": "execute_result"
    }
   ],
   "source": [
    "# We can look at some of the features.\n",
    "tfidf.get_feature_names()[0:20]"
   ]
  },
  {
   "cell_type": "markdown",
   "metadata": {},
   "source": [
    "We will use this matrix to calculate the similarity score with linear kernel, cosine similarity and sigmoid score."
   ]
  },
  {
   "cell_type": "markdown",
   "metadata": {},
   "source": [
    "# Computing similarity score"
   ]
  },
  {
   "cell_type": "code",
   "execution_count": 29,
   "metadata": {},
   "outputs": [],
   "source": [
    "# Import linear_kernel, cosine_similarity, and sigmoid_kernel\n",
    "from sklearn.metrics.pairwise import linear_kernel\n",
    "from sklearn.metrics.pairwise import cosine_similarity\n",
    "from sklearn.metrics.pairwise import sigmoid_kernel\n",
    "\n",
    "# Compute the cosine similarity matrix\n",
    "linear = linear_kernel(tfidf_matrix, tfidf_matrix)\n",
    "cosine_sim = cosine_similarity(tfidf_matrix, tfidf_matrix)\n",
    "sig_score = sigmoid_kernel(tfidf_matrix, tfidf_matrix)"
   ]
  },
  {
   "cell_type": "code",
   "execution_count": 30,
   "metadata": {},
   "outputs": [
    {
     "name": "stdout",
     "output_type": "stream",
     "text": [
      "(10002, 10002)\n",
      "(10002, 10002)\n",
      "(10002, 10002)\n"
     ]
    }
   ],
   "source": [
    "print(linear.shape)\n",
    "print(cosine_sim.shape)\n",
    "print(sig_score.shape)"
   ]
  },
  {
   "cell_type": "code",
   "execution_count": 31,
   "metadata": {},
   "outputs": [
    {
     "name": "stdout",
     "output_type": "stream",
     "text": [
      "[0.         1.         0.27876877 ... 0.25244281 0.27876877 0.        ]\n",
      "[0.         1.         0.27876877 ... 0.25244281 0.27876877 0.        ]\n",
      "[0.76159416 0.76196458 0.76169747 ... 0.76168771 0.76169747 0.76159416]\n"
     ]
    }
   ],
   "source": [
    "print(linear[1])\n",
    "print(cosine_sim[1])\n",
    "print(sig_score[1])"
   ]
  },
  {
   "cell_type": "markdown",
   "metadata": {},
   "source": [
    "This matrix represents each product category's similarity score with every other product category."
   ]
  },
  {
   "cell_type": "markdown",
   "metadata": {},
   "source": [
    "# Input / output function"
   ]
  },
  {
   "cell_type": "markdown",
   "metadata": {},
   "source": [
    "We need to define a function that takes the product name as an input and outputs a list of the 10 most similar products. For this we need a reverse mapping of products and DataFrame indices. This means we need a mechanism to identify the index of a product in our DataFrame."
   ]
  },
  {
   "cell_type": "code",
   "execution_count": 32,
   "metadata": {},
   "outputs": [],
   "source": [
    "#Construct a reverse map of indices and product names\n",
    "indices = pd.Series(dataset.index, index=dataset[\"Product Name\"])"
   ]
  },
  {
   "cell_type": "code",
   "execution_count": 33,
   "metadata": {},
   "outputs": [
    {
     "data": {
      "text/plain": [
       "Product Name\n",
       "DB Longboards CoreFlex Crossbow 41\" Bamboo Fiberglass Longboard Complete                                                                             0\n",
       "Electronic Snap Circuits Mini Kits Classpack, FM Radio, Motion Detector, Music Box (Set of 5)                                                        1\n",
       "3Doodler Create Flexy 3D Printing Filament Refill Bundle (X5 Pack, Over 1000'. of Extruded Plastics! - Innovate                                      2\n",
       "Guillow Airplane Design Studio with Travel Case Building Kit                                                                                         3\n",
       "Woodstock- Collage 500 pc Puzzle                                                                                                                     4\n",
       "Terra by Battat – 4 Dinosaur Toys, Medium – Dinosaurs for Kids & Collectors, Scientifically Accurate & Designed by A Paleo-Artist; Age 3+ (4 Pc)     5\n",
       "Rubie's Child's Pokemon Deluxe Pikachu Costume, X-Small                                                                                              6\n",
       "Hoffmaster 120813 Double-Tipped Triangular Crayon, 88 mm Length, Wrapped (500 Packs of 2)                                                            7\n",
       "ARTSCAPE Etched Glass 24\" x 36\" Window Film, 24-by-36-Inch                                                                                           8\n",
       "Pokemon TCG: Sun and Moon Crimson Invasion Elite Trainer Box                                                                                         9\n",
       "Moonlite, 3-Story Bundle for Boys, Includes 3 Story Reels for Use with Storybook Projector                                                          10\n",
       "DC Cover Girls: Black Canary by Joëlle Jones Statue                                                                                                 11\n",
       "Baby Doll Bedding Chevron Window Valance and Curtain Set, Orange                                                                                    12\n",
       "LEGO Minecraft Creeper BigFig and Ocelot Characters 21156 Buildable Toy Minecraft Figure Gift Set for Play and Decoration, New 2020 (184 Pieces)    13\n",
       "C&D Visionary DC Comic Originals Flash Logo Sticker                                                                                                 14\n",
       "The Learning Journey ABC Melody Maker, Primary                                                                                                      15\n",
       "The Complete Common Core: State Standards Kit, Grade 5                                                                                              16\n",
       "Flash Furniture 25''W x 45''L Trapezoid Red HP Laminate Activity Table - Height Adjustable Short Legs                                               17\n",
       "Schylling Veterinarian Kit                                                                                                                          18\n",
       "Yellies! Frizz; Voice-Activated Spider Pet; Ages 5 & Up                                                                                             19\n",
       "dtype: int64"
      ]
     },
     "execution_count": 33,
     "metadata": {},
     "output_type": "execute_result"
    }
   ],
   "source": [
    "indices[:20]"
   ]
  },
  {
   "cell_type": "code",
   "execution_count": 34,
   "metadata": {},
   "outputs": [],
   "source": [
    "# Function that takes in product name as input and outputs most similar product\n",
    "def rec_lin(product_name, linear=linear):\n",
    "    # Get the index of the product that matches the product name\n",
    "    idx = indices[product_name]\n",
    "\n",
    "    # Get the pairwise similarity scores\n",
    "    sim_scores = list(enumerate(linear[idx]))\n",
    "\n",
    "    # Sort the products based on the similarity scores\n",
    "    sim_scores = sorted(sim_scores, key=lambda x: x[1], reverse=True)\n",
    "    \n",
    "    # Get the scores of the 10 most similar products\n",
    "    sim_scores = sim_scores[1:11]\n",
    "\n",
    "    # Get the product indices\n",
    "    product_indices = [i[0] for i in sim_scores]\n",
    "\n",
    "    # Return the top 10 most similar products\n",
    "    return dataset[[\"Product Name\",\"Selling Price\"]].iloc[product_indices]"
   ]
  },
  {
   "cell_type": "code",
   "execution_count": null,
   "metadata": {},
   "outputs": [],
   "source": [
    "name = input(\"What would you like to search for today? \")\n",
    "result = rec_lin(name)\n",
    "print(result)"
   ]
  },
  {
   "cell_type": "code",
   "execution_count": null,
   "metadata": {},
   "outputs": [],
   "source": []
  }
 ],
 "metadata": {
  "kernelspec": {
   "display_name": "Python 3",
   "language": "python",
   "name": "python3"
  },
  "language_info": {
   "codemirror_mode": {
    "name": "ipython",
    "version": 3
   },
   "file_extension": ".py",
   "mimetype": "text/x-python",
   "name": "python",
   "nbconvert_exporter": "python",
   "pygments_lexer": "ipython3",
   "version": "3.8.5"
  }
 },
 "nbformat": 4,
 "nbformat_minor": 4
}
